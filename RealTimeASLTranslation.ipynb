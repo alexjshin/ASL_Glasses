{
 "cells": [
  {
   "cell_type": "markdown",
   "id": "e09afbf1-f3b5-42ac-bb8f-530b78e99d45",
   "metadata": {},
   "source": [
    "# Import Dependencies"
   ]
  },
  {
   "cell_type": "code",
   "execution_count": 6,
   "id": "7ee9b357-5774-4d54-8001-42c61687a417",
   "metadata": {},
   "outputs": [],
   "source": [
    "import cv2\n",
    "import os\n",
    "import time\n",
    "import numpy as np\n",
    "import mediapipe as mp\n",
    "from matplotlib import pyplot as plt"
   ]
  },
  {
   "cell_type": "markdown",
   "id": "aad8f1ed-ec6b-4acb-a999-db8bcbcfdae7",
   "metadata": {},
   "source": [
    "## Build Keypoints using MP Holistic"
   ]
  },
  {
   "cell_type": "code",
   "execution_count": 7,
   "id": "b79f8b72-6804-45b6-ab5b-f420d3e72956",
   "metadata": {},
   "outputs": [],
   "source": [
    "mp_holistic = mp.solutions.holistic\n",
    "mp_drawing = mp.solutions.drawing_utils\n",
    "mp_drawing_styles = mp.solutions.drawing_styles"
   ]
  },
  {
   "cell_type": "code",
   "execution_count": 8,
   "id": "7e33b5bc-197f-44c4-a540-d0bafe099806",
   "metadata": {},
   "outputs": [],
   "source": [
    "def setup_holistic_detection():\n",
    "    # Initialize Camera Input\n",
    "    cap = cv2.VideoCapture(0)\n",
    "\n",
    "    # Set Up MediaPipe Holistic Model\n",
    "    holistic = mp_holistic.Holistic(\n",
    "        min_detection_confidence=0.5,\n",
    "        min_tracking_confidence=0.5\n",
    "    )\n",
    "\n",
    "    return cap, holistic"
   ]
  },
  {
   "cell_type": "code",
   "execution_count": 9,
   "id": "f4491b4b-3655-4527-a3bd-bc7cf83f5c56",
   "metadata": {},
   "outputs": [],
   "source": [
    "def process_mp_frames(frame, holistic):\n",
    "    # Opencv records in BGR while mediapipe supports RGB\n",
    "    # We need to recolor frame to RGB to support MediaPipe processing\n",
    "    image = cv2.cvtColor(frame, cv2.COLOR_BGR2RGB)\n",
    "    image.flags.writeable = False                  # Make Image non-writeable for performance\n",
    "    results = holistic.process(image)              # process image and return object contain landmarks\n",
    "    image.flags.writeable = True                   # Back to writeable \n",
    "    image = cv2.cvtColor(image, cv2.COLOR_RBG2BGR) # Color back to BGR for OpenCV \n",
    "\n",
    "    return image, results"
   ]
  },
  {
   "cell_type": "code",
   "execution_count": null,
   "id": "d03f4add-7c88-4072-9e7f-052cb1acde2d",
   "metadata": {},
   "outputs": [],
   "source": [
    "def run_holistic_detection():\n",
    "    cap, holistic = setup_holistic_detection()\n",
    "\n",
    "    while cap.isOpened():\n",
    "        # Read frame\n",
    "        ret, frame = cap.read()\n",
    "        if not ret:\n",
    "            print('camera stopped: no frames grabbed')\n",
    "            break\n",
    "\n",
    "        # Process Frame\n",
    "        # opencv records in bgr\n",
    "        image, results = media\n",
    "\n"
   ]
  }
 ],
 "metadata": {
  "kernelspec": {
   "display_name": "venv",
   "language": "python",
   "name": "venv"
  },
  "language_info": {
   "codemirror_mode": {
    "name": "ipython",
    "version": 3
   },
   "file_extension": ".py",
   "mimetype": "text/x-python",
   "name": "python",
   "nbconvert_exporter": "python",
   "pygments_lexer": "ipython3",
   "version": "3.11.7"
  }
 },
 "nbformat": 4,
 "nbformat_minor": 5
}
