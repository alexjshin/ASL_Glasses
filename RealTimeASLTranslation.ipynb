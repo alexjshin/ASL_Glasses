{
 "cells": [
  {
   "cell_type": "markdown",
   "id": "e09afbf1-f3b5-42ac-bb8f-530b78e99d45",
   "metadata": {},
   "source": [
    "# Import Dependencies"
   ]
  },
  {
   "cell_type": "code",
   "execution_count": 28,
   "id": "7ee9b357-5774-4d54-8001-42c61687a417",
   "metadata": {},
   "outputs": [],
   "source": [
    "import cv2\n",
    "import os\n",
    "import logging\n",
    "import time\n",
    "import numpy as np\n",
    "import mediapipe as mp\n",
    "import json\n",
    "from tqdm.notebook import tqdm # for progress bars in Jupyter Notebook\n",
    "from matplotlib import pyplot as plt"
   ]
  },
  {
   "cell_type": "markdown",
   "id": "aad8f1ed-ec6b-4acb-a999-db8bcbcfdae7",
   "metadata": {},
   "source": [
    "## Detecting Keypoints using MP Holistic"
   ]
  },
  {
   "cell_type": "code",
   "execution_count": 29,
   "id": "b79f8b72-6804-45b6-ab5b-f420d3e72956",
   "metadata": {},
   "outputs": [],
   "source": [
    "mp_holistic = mp.solutions.holistic\n",
    "mp_drawing = mp.solutions.drawing_utils\n",
    "mp_drawing_styles = mp.solutions.drawing_styles"
   ]
  },
  {
   "cell_type": "code",
   "execution_count": 30,
   "id": "7e33b5bc-197f-44c4-a540-d0bafe099806",
   "metadata": {},
   "outputs": [],
   "source": [
    "def setup_holistic_detection():\n",
    "    # Initialize Camera Input\n",
    "    cap = cv2.VideoCapture(0)\n",
    "\n",
    "    # Set Up MediaPipe Holistic Model\n",
    "    holistic = mp_holistic.Holistic(\n",
    "        min_detection_confidence=0.5,\n",
    "        min_tracking_confidence=0.5\n",
    "    )\n",
    "\n",
    "    return cap, holistic"
   ]
  },
  {
   "cell_type": "code",
   "execution_count": 31,
   "id": "f4491b4b-3655-4527-a3bd-bc7cf83f5c56",
   "metadata": {},
   "outputs": [],
   "source": [
    "def process_mp_frames(frame, holistic):\n",
    "    # Opencv records in BGR while mediapipe supports RGB\n",
    "    # We need to recolor frame to RGB to support MediaPipe processing\n",
    "    image = cv2.cvtColor(frame, cv2.COLOR_BGR2RGB)\n",
    "    image.flags.writeable = False                  # Make Image non-writeable for performance\n",
    "    results = holistic.process(image)              # process image and return object contain landmarks\n",
    "    image.flags.writeable = True                   # Back to writeable \n",
    "    image = cv2.cvtColor(image, cv2.COLOR_RGB2BGR) # Color back to BGR for OpenCV \n",
    "\n",
    "    return image, results"
   ]
  },
  {
   "cell_type": "code",
   "execution_count": 32,
   "id": "4f03cb88-b5ea-4f15-a026-93ae2d8b89e8",
   "metadata": {},
   "outputs": [],
   "source": [
    "def draw_landmarks(image, results):\n",
    "    # Draw face landmarks\n",
    "    mp_drawing.draw_landmarks(image, \n",
    "                              results.face_landmarks, \n",
    "                              mp_holistic.FACEMESH_TESSELATION, # FACEMESH_CONTOURS could also be valid here\n",
    "                              landmark_drawing_spec=mp_drawing.DrawingSpec(color=(170,86,0), thickness=1, circle_radius=2),\n",
    "                              connection_drawing_spec=mp_drawing_styles.get_default_face_mesh_tesselation_style())\n",
    "    # Draw pose connections\n",
    "    mp_drawing.draw_landmarks(image, \n",
    "                              results.pose_landmarks, \n",
    "                              mp_holistic.POSE_CONNECTIONS,\n",
    "                              landmark_drawing_spec=mp_drawing_styles.get_default_pose_landmarks_style())\n",
    "    # Draw left hand connections\n",
    "    mp_drawing.draw_landmarks(image, \n",
    "                              results.left_hand_landmarks, \n",
    "                              mp_holistic.HAND_CONNECTIONS,\n",
    "                              landmark_drawing_spec=mp_drawing_styles.get_default_hand_landmarks_style(), \n",
    "                              connection_drawing_spec=mp_drawing_styles.get_default_hand_connections_style())\n",
    "    # Draw right hand connections\n",
    "    mp_drawing.draw_landmarks(image, \n",
    "                              results.right_hand_landmarks, \n",
    "                              mp_holistic.HAND_CONNECTIONS,\n",
    "                              landmark_drawing_spec=mp_drawing_styles.get_default_hand_landmarks_style(), \n",
    "                              connection_drawing_spec=mp_drawing_styles.get_default_hand_connections_style())\n",
    "    "
   ]
  },
  {
   "cell_type": "code",
   "execution_count": 33,
   "id": "08ee0cb4-cd10-431f-b788-57ab70529d4c",
   "metadata": {},
   "outputs": [],
   "source": [
    "def extract_keypoints_comprehensive(results):\n",
    "    # Pose Landmarks have 33 Keypoints\n",
    "    # if results.pose_landmarks:\n",
    "    #     pose_landmarks = []\n",
    "    #     for res in results.pose_landmakrs.landmark:\n",
    "    #         pose_landmarks.extend([res.x, res.y, res.z, res.visibility])\n",
    "    #     pose = np.array(pose_landmarks)\n",
    "    # else:\n",
    "    #     pose = np.zeros(33*4)\n",
    "    pose = np.array([[res.x, res.y, res.z, res.visibility] for res in results.pose_landmarks.landmark]).flatten() if results.pose_landmarks else np.zeros(33*4)\n",
    "    face = np.array([[res.x, res.y, res.z] for res in results.face_landmarks.landmark]).flatten() if results.face_landmarks else np.zeros(468*3)\n",
    "    lh = np.array([[res.x, res.y, res.z] for res in results.left_hand_landmarks.landmark]).flatten() if results.left_hand_landmarks else np.zeros(21*3)\n",
    "    rh = np.array([[res.x, res.y, res.z] for res in results.right_hand_landmarks.landmark]).flatten() if results.right_hand_landmarks else np.zeros(21*3)\n",
    "    keypoints_vector = np.concatenate([pose, face, lh, rh])\n",
    "    # print(keypoints_vector)\n",
    "    return keypoints_vector"
   ]
  },
  {
   "cell_type": "code",
   "execution_count": 34,
   "id": "45b7d17e-72c6-481e-9eee-f0a45c33fa8b",
   "metadata": {},
   "outputs": [],
   "source": [
    "def run_holistic_detection():\n",
    "    os.environ['TF_CPP_MIN_LOG_LEVEL'] = '2'  # Suppress TensorFlow loggin\n",
    "    logging.getLogger('mediapipe').setLevel(logging.ERROR)  # Only show errors from mediapipe\n",
    "    cap, holistic = setup_holistic_detection()\n",
    "\n",
    "    while cap.isOpened():\n",
    "        # Read frame\n",
    "        ret, frame = cap.read()\n",
    "        if not ret:\n",
    "            print('camera stopped: no frames grabbed')\n",
    "            break\n",
    "\n",
    "        # Process Frame/Make dectections\n",
    "        image, results = process_mp_frames(frame, holistic)\n",
    "        # print(results)\n",
    "\n",
    "        # Draw Landmarks\n",
    "        draw_landmarks(image, results)\n",
    "\n",
    "        # Extract Keypoints\n",
    "        keypoints_vector = extract_keypoints_comprehensive(results)\n",
    "\n",
    "        # Show to screen\n",
    "        cv2.imshow('ASL Detection', image)\n",
    "\n",
    "        # Exit on 'q' press\n",
    "        if cv2.waitKey(10) & 0xFF == ord('q'):\n",
    "            draw_landmarks(frame, results)\n",
    "            plt.imshow(cv2.cvtColor(frame, cv2.COLOR_BGR2RGB))\n",
    "            break\n",
    "\n",
    "    cap.release()\n",
    "    cv2.destroyAllWindows()"
   ]
  },
  {
   "cell_type": "code",
   "execution_count": 35,
   "id": "14b16eed-aa12-4bfe-8261-ee0547c1fa02",
   "metadata": {},
   "outputs": [],
   "source": [
    "#run_holistic_detection()"
   ]
  },
  {
   "cell_type": "markdown",
   "id": "34b516a3-5d5f-44cc-a724-762d630396cc",
   "metadata": {},
   "source": [
    "## Dataset Collection Pipeline for Pre-built Dataset"
   ]
  },
  {
   "cell_type": "code",
   "execution_count": 36,
   "id": "b4eeb2a6-af61-4765-b590-61c6526dfec1",
   "metadata": {},
   "outputs": [],
   "source": [
    "WLASL_PATH = \"WLASL_DATA\"\n",
    "VIDEOS_PATH = os.path.join(WLASL_PATH, \"videos\")\n",
    "JSON_PATH = os.path.join(WLASL_PATH, \"WLASL_v0.3.json\")\n",
    "OUTPUT_PATH = \"WLASL_Processed\"\n",
    "\n",
    "# Create Output directory\n",
    "os.makedirs(OUTPUT_PATH, exist_ok=True)"
   ]
  },
  {
   "cell_type": "markdown",
   "id": "11c1ed14-9c6a-4d44-beeb-db363fe5673b",
   "metadata": {},
   "source": [
    "**Verify Dataset Structure**"
   ]
  },
  {
   "cell_type": "code",
   "execution_count": 37,
   "id": "3d08acd1-e5e4-437a-bad5-d0ecab271a18",
   "metadata": {},
   "outputs": [
    {
     "name": "stdout",
     "output_type": "stream",
     "text": [
      "WLASL folder contents:\n",
      "['nslt_2000.json', 'nslt_100.json', '.DS_Store', 'nslt_300.json', 'WLASL_v0.3.json', 'nslt_1000.json', 'wlasl_class_list.txt', 'videos', 'missing.txt']\n",
      "\n",
      "JSON file contains data for 2000 signs\n",
      "Example of first sign: book\n"
     ]
    }
   ],
   "source": [
    "print(\"WLASL folder contents:\")\n",
    "print(os.listdir(WLASL_PATH))\n",
    "\n",
    "# If there's a JSON file, check its structure\n",
    "json_path = os.path.join(WLASL_PATH, \"WLASL_v0.3.json\")\n",
    "if os.path.exists(json_path):\n",
    "    with open(json_path, 'r') as f:\n",
    "        data = json.load(f)\n",
    "    print(f\"\\nJSON file contains data for {len(data)} signs\")\n",
    "    print(f\"Example of first sign: {data[0]['gloss']}\")"
   ]
  },
  {
   "cell_type": "markdown",
   "id": "50ecb543-af69-4b3b-8dfa-c671d10e25ce",
   "metadata": {},
   "source": [
    "**Process Videos**"
   ]
  },
  {
   "cell_type": "code",
   "execution_count": 38,
   "id": "dcf0f353-7a71-4828-b891-e45cf037aea7",
   "metadata": {},
   "outputs": [],
   "source": [
    "def process_video(video_path, output_dir, max_frames=30):\n",
    "    \"\"\"Process a single video file and extract landmarks\"\"\"\n",
    "    # Create Output Directory\n",
    "    os.makedirs(output_dir, exist_ok=True)\n",
    "\n",
    "    # open video\n",
    "    cap = cv2.VideoCapture(video_path)\n",
    "    frame_count = int(cap.get(cv2.CAP_PROP_FRAME_COUNT))\n",
    "\n",
    "    # Calculate frame sampling rate\n",
    "    if frame_count <= max_frames:\n",
    "        # Use all frames is video is short\n",
    "        frame_indices = list(range(frame_count))\n",
    "    else:\n",
    "        # Sample frames evenly if video is long\n",
    "        frame_indices = np.linspace(0, frame_count-1, max_frames, dtype=int)\n",
    "\n",
    "    # Initialize MediaPipe\n",
    "    with mp_holistic.Holistic(min_detection_confidence=0.5, min_tracking_confidence=0.5) as holistic:\n",
    "        # Process Frames\n",
    "        for frame_idx, i in enumerate(frame_indices):\n",
    "            # Set frame position\n",
    "            cap.set(cv2.CAP_PROP_POS_FRAMES, i)\n",
    "            success, frame = cap.read()\n",
    "\n",
    "            if not success:\n",
    "                print(f\"Could not read frame {i} from {video_path}\")\n",
    "                continue\n",
    "                \n",
    "            # Process image\n",
    "            image, results = process_mp_frames(frame, holistic)\n",
    "            \n",
    "            # Extract and savve keypoints\n",
    "            keypoints_vector = extract_keypoints_comprehensive(results)\n",
    "            npy_path = os.path.join(output_dir, str(frame_idx))\n",
    "            np.save(npy_path, keypoints_vector)\n",
    "\n",
    "    cap.release()\n",
    "    return len(frame_indices)"
   ]
  },
  {
   "cell_type": "code",
   "execution_count": 39,
   "id": "bf76401a-1d16-4ca7-8a88-ae8e970b975a",
   "metadata": {},
   "outputs": [],
   "source": [
    "def process_wlasl_dataset(max_signs=None, max_videos_per_sign=30):\n",
    "    \"\"\"Process the WLASL dataset\"\"\"\n",
    "    # Load WLASL metadata\n",
    "    with open(JSON_PATH, 'r') as f:\n",
    "        wlasl_data = json.load(f)\n",
    "\n",
    "    # Limit number of signs if specified\n",
    "    if max_signs:\n",
    "        wlasl_data = wlasl_data[:max_signs]\n",
    "\n",
    "    # list to store sign info\n",
    "    processed_signs = []\n",
    "\n",
    "    # Create sign to ID mapping\n",
    "    sign_map = {sign_data['gloss']: idx for idx, sign_data in enumerate(wlasl_data)}\n",
    "\n",
    "    # Save sign map for later use\n",
    "    with open(os.path.join(OUTPUT_PATH, 'sign_map.json'), 'w') as f:\n",
    "        json.dump(sign_map, f, indent=2)\n",
    "\n",
    "    # Process each sign\n",
    "    for sign_idx, sign_data in enumerate(tqdm(wlasl_data, desc=\"Processing signs\")):\n",
    "        sign_name = sign_data['gloss']\n",
    "        sign_id = sign_idx  # Use index as class ID\n",
    "        \n",
    "        # Create directory for this sign\n",
    "        sign_dir = os.path.join(OUTPUT_PATH, sign_name)\n",
    "        os.makedirs(sign_dir, exist_ok=True)\n",
    "\n",
    "        # Process videos for this sign\n",
    "        videos_processed = 0\n",
    "        \n",
    "        for i, instance in enumerate(sign_data['instances']):\n",
    "            if videos_processed >= max_videos_per_sign:\n",
    "                break\n",
    "                \n",
    "            video_id = instance['video_id']\n",
    "            video_path = os.path.join(VIDEOS_PATH, f\"{video_id}.mp4\")\n",
    "            \n",
    "            # Check if video exists\n",
    "            if not os.path.exists(video_path):\n",
    "                print(f\"Video not found: {video_path}\")\n",
    "                continue\n",
    "            \n",
    "            # Process video\n",
    "            output_dir = os.path.join(sign_dir, str(videos_processed))\n",
    "            frames_processed = process_video(video_path, output_dir)\n",
    "            \n",
    "            if frames_processed > 0:\n",
    "                videos_processed += 1\n",
    "                print(f\"Processed {sign_name} video {videos_processed}/{max_videos_per_sign}\")\n",
    "        \n",
    "        # Add to processed signs list\n",
    "        processed_signs.append({\n",
    "            'name': sign_name,\n",
    "            'id': sign_id,\n",
    "            'videos_processed': videos_processed\n",
    "        })\n",
    "        \n",
    "        print(f\"Completed sign: {sign_name} - {videos_processed} videos processed\")\n",
    "    \n",
    "    # Save processed sign information\n",
    "    with open(os.path.join(OUTPUT_PATH, 'processed_signs.json'), 'w') as f:\n",
    "        json.dump(processed_signs, f, indent=2)\n",
    "    \n",
    "    return processed_signs"
   ]
  },
  {
   "cell_type": "code",
   "execution_count": null,
   "id": "5c53c5e2-18dd-47f6-ad12-b84abab61e5a",
   "metadata": {},
   "outputs": [
    {
     "data": {
      "application/vnd.jupyter.widget-view+json": {
       "model_id": "29bb184e4d9a458d9a169d4a43e79942",
       "version_major": 2,
       "version_minor": 0
      },
      "text/plain": [
       "Processing signs:   0%|          | 0/10 [00:00<?, ?it/s]"
      ]
     },
     "metadata": {},
     "output_type": "display_data"
    },
    {
     "name": "stderr",
     "output_type": "stream",
     "text": [
      "I0000 00:00:1743457790.985194  142202 gl_context.cc:369] GL version: 2.1 (2.1 Metal - 89.3), renderer: Apple M1 Pro\n",
      "W0000 00:00:1743457791.046814  160996 inference_feedback_manager.cc:114] Feedback manager requires a model with a single signature inference. Disabling support for feedback tensors.\n",
      "W0000 00:00:1743457791.061064  160995 inference_feedback_manager.cc:114] Feedback manager requires a model with a single signature inference. Disabling support for feedback tensors.\n",
      "W0000 00:00:1743457791.064439  160994 inference_feedback_manager.cc:114] Feedback manager requires a model with a single signature inference. Disabling support for feedback tensors.\n",
      "W0000 00:00:1743457791.064524  160999 inference_feedback_manager.cc:114] Feedback manager requires a model with a single signature inference. Disabling support for feedback tensors.\n",
      "W0000 00:00:1743457791.064538  161003 inference_feedback_manager.cc:114] Feedback manager requires a model with a single signature inference. Disabling support for feedback tensors.\n",
      "W0000 00:00:1743457791.069924  160997 inference_feedback_manager.cc:114] Feedback manager requires a model with a single signature inference. Disabling support for feedback tensors.\n",
      "W0000 00:00:1743457791.071418  160999 inference_feedback_manager.cc:114] Feedback manager requires a model with a single signature inference. Disabling support for feedback tensors.\n",
      "W0000 00:00:1743457791.072203  160998 inference_feedback_manager.cc:114] Feedback manager requires a model with a single signature inference. Disabling support for feedback tensors.\n"
     ]
    },
    {
     "name": "stdout",
     "output_type": "stream",
     "text": [
      "Processed book video 1/10\n",
      "Video not found: WLASL_DATA/videos/65225.mp4\n",
      "Video not found: WLASL_DATA/videos/68011.mp4\n",
      "Video not found: WLASL_DATA/videos/68208.mp4\n",
      "Video not found: WLASL_DATA/videos/68012.mp4\n",
      "Video not found: WLASL_DATA/videos/70212.mp4\n",
      "Video not found: WLASL_DATA/videos/70266.mp4\n",
      "Video not found: WLASL_DATA/videos/07085.mp4\n",
      "Video not found: WLASL_DATA/videos/07086.mp4\n",
      "Video not found: WLASL_DATA/videos/07087.mp4\n"
     ]
    },
    {
     "name": "stderr",
     "output_type": "stream",
     "text": [
      "I0000 00:00:1743457792.932713  142202 gl_context.cc:369] GL version: 2.1 (2.1 Metal - 89.3), renderer: Apple M1 Pro\n",
      "W0000 00:00:1743457792.990474  161149 inference_feedback_manager.cc:114] Feedback manager requires a model with a single signature inference. Disabling support for feedback tensors.\n",
      "W0000 00:00:1743457793.003061  161154 inference_feedback_manager.cc:114] Feedback manager requires a model with a single signature inference. Disabling support for feedback tensors.\n",
      "W0000 00:00:1743457793.004443  161156 inference_feedback_manager.cc:114] Feedback manager requires a model with a single signature inference. Disabling support for feedback tensors.\n",
      "W0000 00:00:1743457793.004483  161152 inference_feedback_manager.cc:114] Feedback manager requires a model with a single signature inference. Disabling support for feedback tensors.\n",
      "W0000 00:00:1743457793.004497  161153 inference_feedback_manager.cc:114] Feedback manager requires a model with a single signature inference. Disabling support for feedback tensors.\n",
      "W0000 00:00:1743457793.008808  161153 inference_feedback_manager.cc:114] Feedback manager requires a model with a single signature inference. Disabling support for feedback tensors.\n",
      "W0000 00:00:1743457793.012530  161148 inference_feedback_manager.cc:114] Feedback manager requires a model with a single signature inference. Disabling support for feedback tensors.\n",
      "W0000 00:00:1743457793.012663  161149 inference_feedback_manager.cc:114] Feedback manager requires a model with a single signature inference. Disabling support for feedback tensors.\n"
     ]
    },
    {
     "name": "stdout",
     "output_type": "stream",
     "text": [
      "Processed book video 2/10\n",
      "Video not found: WLASL_DATA/videos/07088.mp4\n",
      "Video not found: WLASL_DATA/videos/07089.mp4\n",
      "Video not found: WLASL_DATA/videos/07090.mp4\n",
      "Video not found: WLASL_DATA/videos/07091.mp4\n",
      "Video not found: WLASL_DATA/videos/07092.mp4\n",
      "Video not found: WLASL_DATA/videos/07093.mp4\n"
     ]
    },
    {
     "name": "stderr",
     "output_type": "stream",
     "text": [
      "I0000 00:00:1743457794.387405  142202 gl_context.cc:369] GL version: 2.1 (2.1 Metal - 89.3), renderer: Apple M1 Pro\n",
      "W0000 00:00:1743457794.448464  161222 inference_feedback_manager.cc:114] Feedback manager requires a model with a single signature inference. Disabling support for feedback tensors.\n",
      "W0000 00:00:1743457794.462337  161224 inference_feedback_manager.cc:114] Feedback manager requires a model with a single signature inference. Disabling support for feedback tensors.\n",
      "W0000 00:00:1743457794.463710  161228 inference_feedback_manager.cc:114] Feedback manager requires a model with a single signature inference. Disabling support for feedback tensors.\n",
      "W0000 00:00:1743457794.463733  161222 inference_feedback_manager.cc:114] Feedback manager requires a model with a single signature inference. Disabling support for feedback tensors.\n",
      "W0000 00:00:1743457794.463993  161227 inference_feedback_manager.cc:114] Feedback manager requires a model with a single signature inference. Disabling support for feedback tensors.\n",
      "W0000 00:00:1743457794.468787  161222 inference_feedback_manager.cc:114] Feedback manager requires a model with a single signature inference. Disabling support for feedback tensors.\n",
      "W0000 00:00:1743457794.470661  161227 inference_feedback_manager.cc:114] Feedback manager requires a model with a single signature inference. Disabling support for feedback tensors.\n",
      "W0000 00:00:1743457794.470685  161228 inference_feedback_manager.cc:114] Feedback manager requires a model with a single signature inference. Disabling support for feedback tensors.\n"
     ]
    },
    {
     "name": "stdout",
     "output_type": "stream",
     "text": [
      "Processed book video 3/10\n",
      "Video not found: WLASL_DATA/videos/07094.mp4\n",
      "Video not found: WLASL_DATA/videos/07095.mp4\n",
      "Video not found: WLASL_DATA/videos/07096.mp4\n",
      "Video not found: WLASL_DATA/videos/07097.mp4\n"
     ]
    },
    {
     "name": "stderr",
     "output_type": "stream",
     "text": [
      "I0000 00:00:1743457795.691091  142202 gl_context.cc:369] GL version: 2.1 (2.1 Metal - 89.3), renderer: Apple M1 Pro\n",
      "W0000 00:00:1743457795.751142  161252 inference_feedback_manager.cc:114] Feedback manager requires a model with a single signature inference. Disabling support for feedback tensors.\n",
      "W0000 00:00:1743457795.764459  161250 inference_feedback_manager.cc:114] Feedback manager requires a model with a single signature inference. Disabling support for feedback tensors.\n",
      "W0000 00:00:1743457795.765881  161251 inference_feedback_manager.cc:114] Feedback manager requires a model with a single signature inference. Disabling support for feedback tensors.\n",
      "W0000 00:00:1743457795.765897  161255 inference_feedback_manager.cc:114] Feedback manager requires a model with a single signature inference. Disabling support for feedback tensors.\n",
      "W0000 00:00:1743457795.765897  161256 inference_feedback_manager.cc:114] Feedback manager requires a model with a single signature inference. Disabling support for feedback tensors.\n",
      "W0000 00:00:1743457795.770909  161257 inference_feedback_manager.cc:114] Feedback manager requires a model with a single signature inference. Disabling support for feedback tensors.\n",
      "W0000 00:00:1743457795.772681  161249 inference_feedback_manager.cc:114] Feedback manager requires a model with a single signature inference. Disabling support for feedback tensors.\n",
      "W0000 00:00:1743457795.772731  161250 inference_feedback_manager.cc:114] Feedback manager requires a model with a single signature inference. Disabling support for feedback tensors.\n"
     ]
    },
    {
     "name": "stdout",
     "output_type": "stream",
     "text": [
      "Processed book video 4/10\n",
      "Video not found: WLASL_DATA/videos/07098.mp4\n"
     ]
    },
    {
     "name": "stderr",
     "output_type": "stream",
     "text": [
      "I0000 00:00:1743457797.109654  142202 gl_context.cc:369] GL version: 2.1 (2.1 Metal - 89.3), renderer: Apple M1 Pro\n",
      "W0000 00:00:1743457797.167122  161311 inference_feedback_manager.cc:114] Feedback manager requires a model with a single signature inference. Disabling support for feedback tensors.\n",
      "W0000 00:00:1743457797.180215  161315 inference_feedback_manager.cc:114] Feedback manager requires a model with a single signature inference. Disabling support for feedback tensors.\n",
      "W0000 00:00:1743457797.181635  161313 inference_feedback_manager.cc:114] Feedback manager requires a model with a single signature inference. Disabling support for feedback tensors.\n",
      "W0000 00:00:1743457797.182839  161317 inference_feedback_manager.cc:114] Feedback manager requires a model with a single signature inference. Disabling support for feedback tensors.\n",
      "W0000 00:00:1743457797.182862  161315 inference_feedback_manager.cc:114] Feedback manager requires a model with a single signature inference. Disabling support for feedback tensors.\n",
      "W0000 00:00:1743457797.186574  161313 inference_feedback_manager.cc:114] Feedback manager requires a model with a single signature inference. Disabling support for feedback tensors.\n",
      "W0000 00:00:1743457797.189455  161309 inference_feedback_manager.cc:114] Feedback manager requires a model with a single signature inference. Disabling support for feedback tensors.\n",
      "W0000 00:00:1743457797.189534  161316 inference_feedback_manager.cc:114] Feedback manager requires a model with a single signature inference. Disabling support for feedback tensors.\n"
     ]
    },
    {
     "name": "stdout",
     "output_type": "stream",
     "text": [
      "Processed book video 5/10\n",
      "Video not found: WLASL_DATA/videos/07071.mp4\n",
      "Video not found: WLASL_DATA/videos/07072.mp4\n",
      "Video not found: WLASL_DATA/videos/07073.mp4\n",
      "Video not found: WLASL_DATA/videos/67424.mp4\n"
     ]
    },
    {
     "name": "stderr",
     "output_type": "stream",
     "text": [
      "I0000 00:00:1743457798.460981  142202 gl_context.cc:369] GL version: 2.1 (2.1 Metal - 89.3), renderer: Apple M1 Pro\n",
      "W0000 00:00:1743457798.520901  161374 inference_feedback_manager.cc:114] Feedback manager requires a model with a single signature inference. Disabling support for feedback tensors.\n",
      "W0000 00:00:1743457798.535697  161380 inference_feedback_manager.cc:114] Feedback manager requires a model with a single signature inference. Disabling support for feedback tensors.\n",
      "W0000 00:00:1743457798.536922  161374 inference_feedback_manager.cc:114] Feedback manager requires a model with a single signature inference. Disabling support for feedback tensors.\n",
      "W0000 00:00:1743457798.537102  161380 inference_feedback_manager.cc:114] Feedback manager requires a model with a single signature inference. Disabling support for feedback tensors.\n",
      "W0000 00:00:1743457798.537490  161377 inference_feedback_manager.cc:114] Feedback manager requires a model with a single signature inference. Disabling support for feedback tensors.\n",
      "W0000 00:00:1743457798.542422  161377 inference_feedback_manager.cc:114] Feedback manager requires a model with a single signature inference. Disabling support for feedback tensors.\n",
      "W0000 00:00:1743457798.543687  161373 inference_feedback_manager.cc:114] Feedback manager requires a model with a single signature inference. Disabling support for feedback tensors.\n",
      "W0000 00:00:1743457798.543863  161380 inference_feedback_manager.cc:114] Feedback manager requires a model with a single signature inference. Disabling support for feedback tensors.\n"
     ]
    },
    {
     "name": "stdout",
     "output_type": "stream",
     "text": [
      "Could not read frame 38 from WLASL_DATA/videos/07074.mp4\n",
      "Could not read frame 40 from WLASL_DATA/videos/07074.mp4\n",
      "Processed book video 6/10\n",
      "Video not found: WLASL_DATA/videos/07075.mp4\n",
      "Video not found: WLASL_DATA/videos/07076.mp4\n",
      "Video not found: WLASL_DATA/videos/07077.mp4\n",
      "Video not found: WLASL_DATA/videos/07078.mp4\n",
      "Video not found: WLASL_DATA/videos/07079.mp4\n",
      "Video not found: WLASL_DATA/videos/07080.mp4\n",
      "Video not found: WLASL_DATA/videos/07081.mp4\n",
      "Video not found: WLASL_DATA/videos/07082.mp4\n",
      "Video not found: WLASL_DATA/videos/07083.mp4\n",
      "Video not found: WLASL_DATA/videos/07084.mp4\n",
      "Completed sign: book - 6 videos processed\n"
     ]
    },
    {
     "name": "stderr",
     "output_type": "stream",
     "text": [
      "I0000 00:00:1743457799.636884  142202 gl_context.cc:369] GL version: 2.1 (2.1 Metal - 89.3), renderer: Apple M1 Pro\n",
      "W0000 00:00:1743457799.695138  161427 inference_feedback_manager.cc:114] Feedback manager requires a model with a single signature inference. Disabling support for feedback tensors.\n",
      "W0000 00:00:1743457799.708230  161427 inference_feedback_manager.cc:114] Feedback manager requires a model with a single signature inference. Disabling support for feedback tensors.\n",
      "W0000 00:00:1743457799.709808  161425 inference_feedback_manager.cc:114] Feedback manager requires a model with a single signature inference. Disabling support for feedback tensors.\n",
      "W0000 00:00:1743457799.709998  161430 inference_feedback_manager.cc:114] Feedback manager requires a model with a single signature inference. Disabling support for feedback tensors.\n",
      "W0000 00:00:1743457799.709996  161429 inference_feedback_manager.cc:114] Feedback manager requires a model with a single signature inference. Disabling support for feedback tensors.\n",
      "W0000 00:00:1743457799.714516  161425 inference_feedback_manager.cc:114] Feedback manager requires a model with a single signature inference. Disabling support for feedback tensors.\n",
      "W0000 00:00:1743457799.716307  161433 inference_feedback_manager.cc:114] Feedback manager requires a model with a single signature inference. Disabling support for feedback tensors.\n",
      "W0000 00:00:1743457799.717692  161428 inference_feedback_manager.cc:114] Feedback manager requires a model with a single signature inference. Disabling support for feedback tensors.\n"
     ]
    },
    {
     "name": "stdout",
     "output_type": "stream",
     "text": [
      "Processed drink video 1/10\n"
     ]
    },
    {
     "name": "stderr",
     "output_type": "stream",
     "text": [
      "I0000 00:00:1743457802.125328  142202 gl_context.cc:369] GL version: 2.1 (2.1 Metal - 89.3), renderer: Apple M1 Pro\n",
      "W0000 00:00:1743457802.182727  161491 inference_feedback_manager.cc:114] Feedback manager requires a model with a single signature inference. Disabling support for feedback tensors.\n",
      "W0000 00:00:1743457802.197557  161496 inference_feedback_manager.cc:114] Feedback manager requires a model with a single signature inference. Disabling support for feedback tensors.\n",
      "W0000 00:00:1743457802.198930  161490 inference_feedback_manager.cc:114] Feedback manager requires a model with a single signature inference. Disabling support for feedback tensors.\n",
      "W0000 00:00:1743457802.198968  161498 inference_feedback_manager.cc:114] Feedback manager requires a model with a single signature inference. Disabling support for feedback tensors.\n",
      "W0000 00:00:1743457802.199002  161496 inference_feedback_manager.cc:114] Feedback manager requires a model with a single signature inference. Disabling support for feedback tensors.\n",
      "W0000 00:00:1743457802.203632  161498 inference_feedback_manager.cc:114] Feedback manager requires a model with a single signature inference. Disabling support for feedback tensors.\n",
      "W0000 00:00:1743457802.205018  161496 inference_feedback_manager.cc:114] Feedback manager requires a model with a single signature inference. Disabling support for feedback tensors.\n",
      "W0000 00:00:1743457802.205206  161490 inference_feedback_manager.cc:114] Feedback manager requires a model with a single signature inference. Disabling support for feedback tensors.\n"
     ]
    },
    {
     "name": "stdout",
     "output_type": "stream",
     "text": [
      "Processed drink video 2/10\n",
      "Video not found: WLASL_DATA/videos/70173.mp4\n",
      "Video not found: WLASL_DATA/videos/68538.mp4\n",
      "Video not found: WLASL_DATA/videos/68042.mp4\n",
      "Video not found: WLASL_DATA/videos/68660.mp4\n",
      "Video not found: WLASL_DATA/videos/68041.mp4\n",
      "Video not found: WLASL_DATA/videos/17725.mp4\n",
      "Video not found: WLASL_DATA/videos/17726.mp4\n",
      "Video not found: WLASL_DATA/videos/17727.mp4\n",
      "Video not found: WLASL_DATA/videos/17728.mp4\n"
     ]
    },
    {
     "name": "stderr",
     "output_type": "stream",
     "text": [
      "I0000 00:00:1743457803.450262  142202 gl_context.cc:369] GL version: 2.1 (2.1 Metal - 89.3), renderer: Apple M1 Pro\n",
      "W0000 00:00:1743457803.509017  161552 inference_feedback_manager.cc:114] Feedback manager requires a model with a single signature inference. Disabling support for feedback tensors.\n",
      "W0000 00:00:1743457803.524149  161553 inference_feedback_manager.cc:114] Feedback manager requires a model with a single signature inference. Disabling support for feedback tensors.\n",
      "W0000 00:00:1743457803.525442  161553 inference_feedback_manager.cc:114] Feedback manager requires a model with a single signature inference. Disabling support for feedback tensors.\n",
      "W0000 00:00:1743457803.525496  161551 inference_feedback_manager.cc:114] Feedback manager requires a model with a single signature inference. Disabling support for feedback tensors.\n",
      "W0000 00:00:1743457803.525499  161559 inference_feedback_manager.cc:114] Feedback manager requires a model with a single signature inference. Disabling support for feedback tensors.\n",
      "W0000 00:00:1743457803.529959  161551 inference_feedback_manager.cc:114] Feedback manager requires a model with a single signature inference. Disabling support for feedback tensors.\n",
      "W0000 00:00:1743457803.532335  161550 inference_feedback_manager.cc:114] Feedback manager requires a model with a single signature inference. Disabling support for feedback tensors.\n",
      "W0000 00:00:1743457803.532402  161559 inference_feedback_manager.cc:114] Feedback manager requires a model with a single signature inference. Disabling support for feedback tensors.\n"
     ]
    },
    {
     "name": "stdout",
     "output_type": "stream",
     "text": [
      "Processed drink video 3/10\n",
      "Video not found: WLASL_DATA/videos/17729.mp4\n",
      "Video not found: WLASL_DATA/videos/17730.mp4\n",
      "Video not found: WLASL_DATA/videos/17731.mp4\n",
      "Video not found: WLASL_DATA/videos/17732.mp4\n"
     ]
    },
    {
     "name": "stderr",
     "output_type": "stream",
     "text": [
      "I0000 00:00:1743457804.761788  142202 gl_context.cc:369] GL version: 2.1 (2.1 Metal - 89.3), renderer: Apple M1 Pro\n",
      "W0000 00:00:1743457804.821105  161616 inference_feedback_manager.cc:114] Feedback manager requires a model with a single signature inference. Disabling support for feedback tensors.\n",
      "W0000 00:00:1743457804.836424  161618 inference_feedback_manager.cc:114] Feedback manager requires a model with a single signature inference. Disabling support for feedback tensors.\n",
      "W0000 00:00:1743457804.837979  161618 inference_feedback_manager.cc:114] Feedback manager requires a model with a single signature inference. Disabling support for feedback tensors.\n",
      "W0000 00:00:1743457804.838040  161614 inference_feedback_manager.cc:114] Feedback manager requires a model with a single signature inference. Disabling support for feedback tensors.\n",
      "W0000 00:00:1743457804.838055  161623 inference_feedback_manager.cc:114] Feedback manager requires a model with a single signature inference. Disabling support for feedback tensors.\n",
      "W0000 00:00:1743457804.844246  161620 inference_feedback_manager.cc:114] Feedback manager requires a model with a single signature inference. Disabling support for feedback tensors.\n",
      "W0000 00:00:1743457804.846003  161614 inference_feedback_manager.cc:114] Feedback manager requires a model with a single signature inference. Disabling support for feedback tensors.\n",
      "W0000 00:00:1743457804.846935  161615 inference_feedback_manager.cc:114] Feedback manager requires a model with a single signature inference. Disabling support for feedback tensors.\n"
     ]
    },
    {
     "name": "stdout",
     "output_type": "stream",
     "text": [
      "Processed drink video 4/10\n"
     ]
    },
    {
     "name": "stderr",
     "output_type": "stream",
     "text": [
      "I0000 00:00:1743457806.135416  142202 gl_context.cc:369] GL version: 2.1 (2.1 Metal - 89.3), renderer: Apple M1 Pro\n",
      "W0000 00:00:1743457806.193476  161647 inference_feedback_manager.cc:114] Feedback manager requires a model with a single signature inference. Disabling support for feedback tensors.\n",
      "W0000 00:00:1743457806.206522  161647 inference_feedback_manager.cc:114] Feedback manager requires a model with a single signature inference. Disabling support for feedback tensors.\n",
      "W0000 00:00:1743457806.208140  161651 inference_feedback_manager.cc:114] Feedback manager requires a model with a single signature inference. Disabling support for feedback tensors.\n",
      "W0000 00:00:1743457806.208160  161650 inference_feedback_manager.cc:114] Feedback manager requires a model with a single signature inference. Disabling support for feedback tensors.\n",
      "W0000 00:00:1743457806.209299  161653 inference_feedback_manager.cc:114] Feedback manager requires a model with a single signature inference. Disabling support for feedback tensors.\n",
      "W0000 00:00:1743457806.214270  161653 inference_feedback_manager.cc:114] Feedback manager requires a model with a single signature inference. Disabling support for feedback tensors.\n",
      "W0000 00:00:1743457806.215111  161647 inference_feedback_manager.cc:114] Feedback manager requires a model with a single signature inference. Disabling support for feedback tensors.\n",
      "W0000 00:00:1743457806.215776  161650 inference_feedback_manager.cc:114] Feedback manager requires a model with a single signature inference. Disabling support for feedback tensors.\n"
     ]
    },
    {
     "name": "stdout",
     "output_type": "stream",
     "text": [
      "Processed drink video 5/10\n"
     ]
    },
    {
     "name": "stderr",
     "output_type": "stream",
     "text": [
      "I0000 00:00:1743457807.468353  142202 gl_context.cc:369] GL version: 2.1 (2.1 Metal - 89.3), renderer: Apple M1 Pro\n",
      "W0000 00:00:1743457807.528322  161734 inference_feedback_manager.cc:114] Feedback manager requires a model with a single signature inference. Disabling support for feedback tensors.\n",
      "W0000 00:00:1743457807.544116  161740 inference_feedback_manager.cc:114] Feedback manager requires a model with a single signature inference. Disabling support for feedback tensors.\n",
      "W0000 00:00:1743457807.545709  161735 inference_feedback_manager.cc:114] Feedback manager requires a model with a single signature inference. Disabling support for feedback tensors.\n",
      "W0000 00:00:1743457807.545740  161737 inference_feedback_manager.cc:114] Feedback manager requires a model with a single signature inference. Disabling support for feedback tensors.\n",
      "W0000 00:00:1743457807.546877  161731 inference_feedback_manager.cc:114] Feedback manager requires a model with a single signature inference. Disabling support for feedback tensors.\n",
      "W0000 00:00:1743457807.551922  161731 inference_feedback_manager.cc:114] Feedback manager requires a model with a single signature inference. Disabling support for feedback tensors.\n",
      "W0000 00:00:1743457807.552454  161734 inference_feedback_manager.cc:114] Feedback manager requires a model with a single signature inference. Disabling support for feedback tensors.\n",
      "W0000 00:00:1743457807.552543  161735 inference_feedback_manager.cc:114] Feedback manager requires a model with a single signature inference. Disabling support for feedback tensors.\n"
     ]
    },
    {
     "name": "stdout",
     "output_type": "stream",
     "text": [
      "Processed drink video 6/10\n"
     ]
    },
    {
     "name": "stderr",
     "output_type": "stream",
     "text": [
      "I0000 00:00:1743457808.838710  142202 gl_context.cc:369] GL version: 2.1 (2.1 Metal - 89.3), renderer: Apple M1 Pro\n",
      "W0000 00:00:1743457808.898087  161811 inference_feedback_manager.cc:114] Feedback manager requires a model with a single signature inference. Disabling support for feedback tensors.\n",
      "W0000 00:00:1743457808.910830  161807 inference_feedback_manager.cc:114] Feedback manager requires a model with a single signature inference. Disabling support for feedback tensors.\n",
      "W0000 00:00:1743457808.912203  161807 inference_feedback_manager.cc:114] Feedback manager requires a model with a single signature inference. Disabling support for feedback tensors.\n",
      "W0000 00:00:1743457808.913174  161813 inference_feedback_manager.cc:114] Feedback manager requires a model with a single signature inference. Disabling support for feedback tensors.\n",
      "W0000 00:00:1743457808.913244  161806 inference_feedback_manager.cc:114] Feedback manager requires a model with a single signature inference. Disabling support for feedback tensors.\n",
      "W0000 00:00:1743457808.917930  161807 inference_feedback_manager.cc:114] Feedback manager requires a model with a single signature inference. Disabling support for feedback tensors.\n",
      "W0000 00:00:1743457808.919927  161812 inference_feedback_manager.cc:114] Feedback manager requires a model with a single signature inference. Disabling support for feedback tensors.\n",
      "W0000 00:00:1743457808.920176  161813 inference_feedback_manager.cc:114] Feedback manager requires a model with a single signature inference. Disabling support for feedback tensors.\n"
     ]
    },
    {
     "name": "stdout",
     "output_type": "stream",
     "text": [
      "Processed drink video 7/10\n"
     ]
    },
    {
     "name": "stderr",
     "output_type": "stream",
     "text": [
      "I0000 00:00:1743457810.255388  142202 gl_context.cc:369] GL version: 2.1 (2.1 Metal - 89.3), renderer: Apple M1 Pro\n",
      "W0000 00:00:1743457810.313962  161863 inference_feedback_manager.cc:114] Feedback manager requires a model with a single signature inference. Disabling support for feedback tensors.\n",
      "W0000 00:00:1743457810.327117  161863 inference_feedback_manager.cc:114] Feedback manager requires a model with a single signature inference. Disabling support for feedback tensors.\n",
      "W0000 00:00:1743457810.328427  161862 inference_feedback_manager.cc:114] Feedback manager requires a model with a single signature inference. Disabling support for feedback tensors.\n",
      "W0000 00:00:1743457810.328468  161869 inference_feedback_manager.cc:114] Feedback manager requires a model with a single signature inference. Disabling support for feedback tensors.\n",
      "W0000 00:00:1743457810.328510  161866 inference_feedback_manager.cc:114] Feedback manager requires a model with a single signature inference. Disabling support for feedback tensors.\n",
      "W0000 00:00:1743457810.333521  161861 inference_feedback_manager.cc:114] Feedback manager requires a model with a single signature inference. Disabling support for feedback tensors.\n",
      "W0000 00:00:1743457810.334799  161866 inference_feedback_manager.cc:114] Feedback manager requires a model with a single signature inference. Disabling support for feedback tensors.\n",
      "W0000 00:00:1743457810.335336  161868 inference_feedback_manager.cc:114] Feedback manager requires a model with a single signature inference. Disabling support for feedback tensors.\n"
     ]
    },
    {
     "name": "stdout",
     "output_type": "stream",
     "text": [
      "Processed drink video 8/10\n"
     ]
    },
    {
     "name": "stderr",
     "output_type": "stream",
     "text": [
      "I0000 00:00:1743457812.185229  142202 gl_context.cc:369] GL version: 2.1 (2.1 Metal - 89.3), renderer: Apple M1 Pro\n",
      "W0000 00:00:1743457812.243867  161928 inference_feedback_manager.cc:114] Feedback manager requires a model with a single signature inference. Disabling support for feedback tensors.\n",
      "W0000 00:00:1743457812.257102  161928 inference_feedback_manager.cc:114] Feedback manager requires a model with a single signature inference. Disabling support for feedback tensors.\n",
      "W0000 00:00:1743457812.258939  161926 inference_feedback_manager.cc:114] Feedback manager requires a model with a single signature inference. Disabling support for feedback tensors.\n",
      "W0000 00:00:1743457812.259109  161935 inference_feedback_manager.cc:114] Feedback manager requires a model with a single signature inference. Disabling support for feedback tensors.\n",
      "W0000 00:00:1743457812.259355  161928 inference_feedback_manager.cc:114] Feedback manager requires a model with a single signature inference. Disabling support for feedback tensors.\n",
      "W0000 00:00:1743457812.264239  161928 inference_feedback_manager.cc:114] Feedback manager requires a model with a single signature inference. Disabling support for feedback tensors.\n",
      "W0000 00:00:1743457812.265611  161926 inference_feedback_manager.cc:114] Feedback manager requires a model with a single signature inference. Disabling support for feedback tensors.\n",
      "W0000 00:00:1743457812.265644  161935 inference_feedback_manager.cc:114] Feedback manager requires a model with a single signature inference. Disabling support for feedback tensors.\n"
     ]
    },
    {
     "name": "stdout",
     "output_type": "stream",
     "text": [
      "Processed drink video 9/10\n",
      "Video not found: WLASL_DATA/videos/17714.mp4\n",
      "Video not found: WLASL_DATA/videos/17715.mp4\n",
      "Video not found: WLASL_DATA/videos/17716.mp4\n",
      "Video not found: WLASL_DATA/videos/17717.mp4\n",
      "Video not found: WLASL_DATA/videos/17718.mp4\n"
     ]
    },
    {
     "name": "stderr",
     "output_type": "stream",
     "text": [
      "I0000 00:00:1743457813.660576  142202 gl_context.cc:369] GL version: 2.1 (2.1 Metal - 89.3), renderer: Apple M1 Pro\n",
      "W0000 00:00:1743457813.720103  162008 inference_feedback_manager.cc:114] Feedback manager requires a model with a single signature inference. Disabling support for feedback tensors.\n",
      "W0000 00:00:1743457813.732683  162014 inference_feedback_manager.cc:114] Feedback manager requires a model with a single signature inference. Disabling support for feedback tensors.\n",
      "W0000 00:00:1743457813.733955  162011 inference_feedback_manager.cc:114] Feedback manager requires a model with a single signature inference. Disabling support for feedback tensors.\n",
      "W0000 00:00:1743457813.734005  162009 inference_feedback_manager.cc:114] Feedback manager requires a model with a single signature inference. Disabling support for feedback tensors.\n",
      "W0000 00:00:1743457813.734042  162012 inference_feedback_manager.cc:114] Feedback manager requires a model with a single signature inference. Disabling support for feedback tensors.\n",
      "W0000 00:00:1743457813.739469  162011 inference_feedback_manager.cc:114] Feedback manager requires a model with a single signature inference. Disabling support for feedback tensors.\n",
      "W0000 00:00:1743457813.740606  162012 inference_feedback_manager.cc:114] Feedback manager requires a model with a single signature inference. Disabling support for feedback tensors.\n",
      "W0000 00:00:1743457813.740607  162009 inference_feedback_manager.cc:114] Feedback manager requires a model with a single signature inference. Disabling support for feedback tensors.\n"
     ]
    },
    {
     "name": "stdout",
     "output_type": "stream",
     "text": [
      "Processed drink video 10/10\n",
      "Completed sign: drink - 10 videos processed\n",
      "Video not found: WLASL_DATA/videos/12306.mp4\n",
      "Video not found: WLASL_DATA/videos/68028.mp4\n",
      "Video not found: WLASL_DATA/videos/69054.mp4\n"
     ]
    },
    {
     "name": "stderr",
     "output_type": "stream",
     "text": [
      "I0000 00:00:1743457814.971984  142202 gl_context.cc:369] GL version: 2.1 (2.1 Metal - 89.3), renderer: Apple M1 Pro\n",
      "W0000 00:00:1743457815.032540  162072 inference_feedback_manager.cc:114] Feedback manager requires a model with a single signature inference. Disabling support for feedback tensors.\n",
      "W0000 00:00:1743457815.046821  162069 inference_feedback_manager.cc:114] Feedback manager requires a model with a single signature inference. Disabling support for feedback tensors.\n",
      "W0000 00:00:1743457815.048096  162078 inference_feedback_manager.cc:114] Feedback manager requires a model with a single signature inference. Disabling support for feedback tensors.\n",
      "W0000 00:00:1743457815.048122  162072 inference_feedback_manager.cc:114] Feedback manager requires a model with a single signature inference. Disabling support for feedback tensors.\n",
      "W0000 00:00:1743457815.048417  162070 inference_feedback_manager.cc:114] Feedback manager requires a model with a single signature inference. Disabling support for feedback tensors.\n",
      "W0000 00:00:1743457815.052926  162078 inference_feedback_manager.cc:114] Feedback manager requires a model with a single signature inference. Disabling support for feedback tensors.\n",
      "W0000 00:00:1743457815.054664  162072 inference_feedback_manager.cc:114] Feedback manager requires a model with a single signature inference. Disabling support for feedback tensors.\n",
      "W0000 00:00:1743457815.055034  162070 inference_feedback_manager.cc:114] Feedback manager requires a model with a single signature inference. Disabling support for feedback tensors.\n"
     ]
    },
    {
     "name": "stdout",
     "output_type": "stream",
     "text": [
      "Processed computer video 1/10\n",
      "Video not found: WLASL_DATA/videos/12329.mp4\n",
      "Video not found: WLASL_DATA/videos/12330.mp4\n"
     ]
    },
    {
     "name": "stderr",
     "output_type": "stream",
     "text": [
      "I0000 00:00:1743457816.252414  142202 gl_context.cc:369] GL version: 2.1 (2.1 Metal - 89.3), renderer: Apple M1 Pro\n",
      "W0000 00:00:1743457816.311114  162123 inference_feedback_manager.cc:114] Feedback manager requires a model with a single signature inference. Disabling support for feedback tensors.\n",
      "W0000 00:00:1743457816.323625  162123 inference_feedback_manager.cc:114] Feedback manager requires a model with a single signature inference. Disabling support for feedback tensors.\n",
      "W0000 00:00:1743457816.325047  162126 inference_feedback_manager.cc:114] Feedback manager requires a model with a single signature inference. Disabling support for feedback tensors.\n",
      "W0000 00:00:1743457816.325093  162125 inference_feedback_manager.cc:114] Feedback manager requires a model with a single signature inference. Disabling support for feedback tensors.\n",
      "W0000 00:00:1743457816.326075  162124 inference_feedback_manager.cc:114] Feedback manager requires a model with a single signature inference. Disabling support for feedback tensors.\n",
      "W0000 00:00:1743457816.329698  162127 inference_feedback_manager.cc:114] Feedback manager requires a model with a single signature inference. Disabling support for feedback tensors.\n",
      "W0000 00:00:1743457816.331402  162125 inference_feedback_manager.cc:114] Feedback manager requires a model with a single signature inference. Disabling support for feedback tensors.\n",
      "W0000 00:00:1743457816.332506  162124 inference_feedback_manager.cc:114] Feedback manager requires a model with a single signature inference. Disabling support for feedback tensors.\n"
     ]
    },
    {
     "name": "stdout",
     "output_type": "stream",
     "text": [
      "Processed computer video 2/10\n",
      "Video not found: WLASL_DATA/videos/12331.mp4\n",
      "Video not found: WLASL_DATA/videos/12332.mp4\n",
      "Video not found: WLASL_DATA/videos/12333.mp4\n",
      "Video not found: WLASL_DATA/videos/12335.mp4\n",
      "Video not found: WLASL_DATA/videos/12336.mp4\n"
     ]
    },
    {
     "name": "stderr",
     "output_type": "stream",
     "text": [
      "I0000 00:00:1743457818.110934  142202 gl_context.cc:369] GL version: 2.1 (2.1 Metal - 89.3), renderer: Apple M1 Pro\n",
      "W0000 00:00:1743457818.168684  162198 inference_feedback_manager.cc:114] Feedback manager requires a model with a single signature inference. Disabling support for feedback tensors.\n",
      "W0000 00:00:1743457818.182597  162203 inference_feedback_manager.cc:114] Feedback manager requires a model with a single signature inference. Disabling support for feedback tensors.\n",
      "W0000 00:00:1743457818.183982  162196 inference_feedback_manager.cc:114] Feedback manager requires a model with a single signature inference. Disabling support for feedback tensors.\n",
      "W0000 00:00:1743457818.184043  162198 inference_feedback_manager.cc:114] Feedback manager requires a model with a single signature inference. Disabling support for feedback tensors.\n",
      "W0000 00:00:1743457818.184079  162201 inference_feedback_manager.cc:114] Feedback manager requires a model with a single signature inference. Disabling support for feedback tensors.\n",
      "W0000 00:00:1743457818.190021  162200 inference_feedback_manager.cc:114] Feedback manager requires a model with a single signature inference. Disabling support for feedback tensors.\n",
      "W0000 00:00:1743457818.190387  162198 inference_feedback_manager.cc:114] Feedback manager requires a model with a single signature inference. Disabling support for feedback tensors.\n",
      "W0000 00:00:1743457818.190434  162196 inference_feedback_manager.cc:114] Feedback manager requires a model with a single signature inference. Disabling support for feedback tensors.\n"
     ]
    },
    {
     "name": "stdout",
     "output_type": "stream",
     "text": [
      "Processed computer video 3/10\n",
      "Video not found: WLASL_DATA/videos/12337.mp4\n"
     ]
    },
    {
     "name": "stderr",
     "output_type": "stream",
     "text": [
      "I0000 00:00:1743457819.403011  142202 gl_context.cc:369] GL version: 2.1 (2.1 Metal - 89.3), renderer: Apple M1 Pro\n",
      "W0000 00:00:1743457819.462947  162266 inference_feedback_manager.cc:114] Feedback manager requires a model with a single signature inference. Disabling support for feedback tensors.\n",
      "W0000 00:00:1743457819.476890  162266 inference_feedback_manager.cc:114] Feedback manager requires a model with a single signature inference. Disabling support for feedback tensors.\n",
      "W0000 00:00:1743457819.478294  162273 inference_feedback_manager.cc:114] Feedback manager requires a model with a single signature inference. Disabling support for feedback tensors.\n",
      "W0000 00:00:1743457819.478349  162270 inference_feedback_manager.cc:114] Feedback manager requires a model with a single signature inference. Disabling support for feedback tensors.\n",
      "W0000 00:00:1743457819.478617  162271 inference_feedback_manager.cc:114] Feedback manager requires a model with a single signature inference. Disabling support for feedback tensors.\n",
      "W0000 00:00:1743457819.483739  162270 inference_feedback_manager.cc:114] Feedback manager requires a model with a single signature inference. Disabling support for feedback tensors.\n",
      "W0000 00:00:1743457819.485599  162265 inference_feedback_manager.cc:114] Feedback manager requires a model with a single signature inference. Disabling support for feedback tensors.\n",
      "W0000 00:00:1743457819.485796  162271 inference_feedback_manager.cc:114] Feedback manager requires a model with a single signature inference. Disabling support for feedback tensors.\n"
     ]
    },
    {
     "name": "stdout",
     "output_type": "stream",
     "text": [
      "Processed computer video 4/10\n"
     ]
    },
    {
     "name": "stderr",
     "output_type": "stream",
     "text": [
      "I0000 00:00:1743457820.777102  142202 gl_context.cc:369] GL version: 2.1 (2.1 Metal - 89.3), renderer: Apple M1 Pro\n",
      "W0000 00:00:1743457820.835856  162303 inference_feedback_manager.cc:114] Feedback manager requires a model with a single signature inference. Disabling support for feedback tensors.\n",
      "W0000 00:00:1743457820.849520  162309 inference_feedback_manager.cc:114] Feedback manager requires a model with a single signature inference. Disabling support for feedback tensors.\n",
      "W0000 00:00:1743457820.850792  162303 inference_feedback_manager.cc:114] Feedback manager requires a model with a single signature inference. Disabling support for feedback tensors.\n",
      "W0000 00:00:1743457820.850917  162309 inference_feedback_manager.cc:114] Feedback manager requires a model with a single signature inference. Disabling support for feedback tensors.\n",
      "W0000 00:00:1743457820.851883  162310 inference_feedback_manager.cc:114] Feedback manager requires a model with a single signature inference. Disabling support for feedback tensors.\n",
      "W0000 00:00:1743457820.855630  162302 inference_feedback_manager.cc:114] Feedback manager requires a model with a single signature inference. Disabling support for feedback tensors.\n",
      "W0000 00:00:1743457820.857654  162309 inference_feedback_manager.cc:114] Feedback manager requires a model with a single signature inference. Disabling support for feedback tensors.\n",
      "W0000 00:00:1743457820.858386  162307 inference_feedback_manager.cc:114] Feedback manager requires a model with a single signature inference. Disabling support for feedback tensors.\n"
     ]
    },
    {
     "name": "stdout",
     "output_type": "stream",
     "text": [
      "Processed computer video 5/10\n"
     ]
    },
    {
     "name": "stderr",
     "output_type": "stream",
     "text": [
      "I0000 00:00:1743457822.574077  142202 gl_context.cc:369] GL version: 2.1 (2.1 Metal - 89.3), renderer: Apple M1 Pro\n",
      "W0000 00:00:1743457822.633691  162373 inference_feedback_manager.cc:114] Feedback manager requires a model with a single signature inference. Disabling support for feedback tensors.\n",
      "W0000 00:00:1743457822.645973  162373 inference_feedback_manager.cc:114] Feedback manager requires a model with a single signature inference. Disabling support for feedback tensors.\n",
      "W0000 00:00:1743457822.647497  162370 inference_feedback_manager.cc:114] Feedback manager requires a model with a single signature inference. Disabling support for feedback tensors.\n",
      "W0000 00:00:1743457822.647500  162374 inference_feedback_manager.cc:114] Feedback manager requires a model with a single signature inference. Disabling support for feedback tensors.\n",
      "W0000 00:00:1743457822.647562  162373 inference_feedback_manager.cc:114] Feedback manager requires a model with a single signature inference. Disabling support for feedback tensors.\n",
      "W0000 00:00:1743457822.652173  162370 inference_feedback_manager.cc:114] Feedback manager requires a model with a single signature inference. Disabling support for feedback tensors.\n",
      "W0000 00:00:1743457822.654363  162374 inference_feedback_manager.cc:114] Feedback manager requires a model with a single signature inference. Disabling support for feedback tensors.\n",
      "W0000 00:00:1743457822.655094  162373 inference_feedback_manager.cc:114] Feedback manager requires a model with a single signature inference. Disabling support for feedback tensors.\n"
     ]
    },
    {
     "name": "stdout",
     "output_type": "stream",
     "text": [
      "Processed computer video 6/10\n"
     ]
    },
    {
     "name": "stderr",
     "output_type": "stream",
     "text": [
      "I0000 00:00:1743457824.469441  142202 gl_context.cc:369] GL version: 2.1 (2.1 Metal - 89.3), renderer: Apple M1 Pro\n",
      "W0000 00:00:1743457824.529960  162448 inference_feedback_manager.cc:114] Feedback manager requires a model with a single signature inference. Disabling support for feedback tensors.\n",
      "W0000 00:00:1743457824.543092  162448 inference_feedback_manager.cc:114] Feedback manager requires a model with a single signature inference. Disabling support for feedback tensors.\n",
      "W0000 00:00:1743457824.544506  162454 inference_feedback_manager.cc:114] Feedback manager requires a model with a single signature inference. Disabling support for feedback tensors.\n",
      "W0000 00:00:1743457824.544532  162449 inference_feedback_manager.cc:114] Feedback manager requires a model with a single signature inference. Disabling support for feedback tensors.\n",
      "W0000 00:00:1743457824.544540  162448 inference_feedback_manager.cc:114] Feedback manager requires a model with a single signature inference. Disabling support for feedback tensors.\n",
      "W0000 00:00:1743457824.549644  162447 inference_feedback_manager.cc:114] Feedback manager requires a model with a single signature inference. Disabling support for feedback tensors.\n",
      "W0000 00:00:1743457824.551057  162453 inference_feedback_manager.cc:114] Feedback manager requires a model with a single signature inference. Disabling support for feedback tensors.\n",
      "W0000 00:00:1743457824.551254  162454 inference_feedback_manager.cc:114] Feedback manager requires a model with a single signature inference. Disabling support for feedback tensors.\n"
     ]
    },
    {
     "name": "stdout",
     "output_type": "stream",
     "text": [
      "Processed computer video 7/10\n"
     ]
    },
    {
     "name": "stderr",
     "output_type": "stream",
     "text": [
      "I0000 00:00:1743457826.419040  142202 gl_context.cc:369] GL version: 2.1 (2.1 Metal - 89.3), renderer: Apple M1 Pro\n",
      "W0000 00:00:1743457826.477129  162508 inference_feedback_manager.cc:114] Feedback manager requires a model with a single signature inference. Disabling support for feedback tensors.\n",
      "W0000 00:00:1743457826.491159  162508 inference_feedback_manager.cc:114] Feedback manager requires a model with a single signature inference. Disabling support for feedback tensors.\n",
      "W0000 00:00:1743457826.492766  162511 inference_feedback_manager.cc:114] Feedback manager requires a model with a single signature inference. Disabling support for feedback tensors.\n",
      "W0000 00:00:1743457826.492828  162507 inference_feedback_manager.cc:114] Feedback manager requires a model with a single signature inference. Disabling support for feedback tensors.\n",
      "W0000 00:00:1743457826.492883  162513 inference_feedback_manager.cc:114] Feedback manager requires a model with a single signature inference. Disabling support for feedback tensors.\n",
      "W0000 00:00:1743457826.497878  162506 inference_feedback_manager.cc:114] Feedback manager requires a model with a single signature inference. Disabling support for feedback tensors.\n",
      "W0000 00:00:1743457826.499926  162511 inference_feedback_manager.cc:114] Feedback manager requires a model with a single signature inference. Disabling support for feedback tensors.\n",
      "W0000 00:00:1743457826.500208  162513 inference_feedback_manager.cc:114] Feedback manager requires a model with a single signature inference. Disabling support for feedback tensors.\n"
     ]
    },
    {
     "name": "stdout",
     "output_type": "stream",
     "text": [
      "Processed computer video 8/10\n"
     ]
    },
    {
     "name": "stderr",
     "output_type": "stream",
     "text": [
      "I0000 00:00:1743457828.293780  142202 gl_context.cc:369] GL version: 2.1 (2.1 Metal - 89.3), renderer: Apple M1 Pro\n",
      "W0000 00:00:1743457828.353114  162574 inference_feedback_manager.cc:114] Feedback manager requires a model with a single signature inference. Disabling support for feedback tensors.\n",
      "W0000 00:00:1743457828.366144  162578 inference_feedback_manager.cc:114] Feedback manager requires a model with a single signature inference. Disabling support for feedback tensors.\n",
      "W0000 00:00:1743457828.367418  162580 inference_feedback_manager.cc:114] Feedback manager requires a model with a single signature inference. Disabling support for feedback tensors.\n",
      "W0000 00:00:1743457828.367506  162578 inference_feedback_manager.cc:114] Feedback manager requires a model with a single signature inference. Disabling support for feedback tensors.\n",
      "W0000 00:00:1743457828.367553  162577 inference_feedback_manager.cc:114] Feedback manager requires a model with a single signature inference. Disabling support for feedback tensors.\n",
      "W0000 00:00:1743457828.372086  162580 inference_feedback_manager.cc:114] Feedback manager requires a model with a single signature inference. Disabling support for feedback tensors.\n",
      "W0000 00:00:1743457828.373342  162577 inference_feedback_manager.cc:114] Feedback manager requires a model with a single signature inference. Disabling support for feedback tensors.\n",
      "W0000 00:00:1743457828.373740  162578 inference_feedback_manager.cc:114] Feedback manager requires a model with a single signature inference. Disabling support for feedback tensors.\n"
     ]
    },
    {
     "name": "stdout",
     "output_type": "stream",
     "text": [
      "Processed computer video 9/10\n"
     ]
    },
    {
     "name": "stderr",
     "output_type": "stream",
     "text": [
      "I0000 00:00:1743457830.232531  142202 gl_context.cc:369] GL version: 2.1 (2.1 Metal - 89.3), renderer: Apple M1 Pro\n",
      "W0000 00:00:1743457830.292343  162648 inference_feedback_manager.cc:114] Feedback manager requires a model with a single signature inference. Disabling support for feedback tensors.\n",
      "W0000 00:00:1743457830.307234  162648 inference_feedback_manager.cc:114] Feedback manager requires a model with a single signature inference. Disabling support for feedback tensors.\n",
      "W0000 00:00:1743457830.308724  162647 inference_feedback_manager.cc:114] Feedback manager requires a model with a single signature inference. Disabling support for feedback tensors.\n",
      "W0000 00:00:1743457830.308718  162651 inference_feedback_manager.cc:114] Feedback manager requires a model with a single signature inference. Disabling support for feedback tensors.\n",
      "W0000 00:00:1743457830.309817  162648 inference_feedback_manager.cc:114] Feedback manager requires a model with a single signature inference. Disabling support for feedback tensors.\n",
      "W0000 00:00:1743457830.313349  162651 inference_feedback_manager.cc:114] Feedback manager requires a model with a single signature inference. Disabling support for feedback tensors.\n",
      "W0000 00:00:1743457830.315479  162647 inference_feedback_manager.cc:114] Feedback manager requires a model with a single signature inference. Disabling support for feedback tensors.\n",
      "W0000 00:00:1743457830.316198  162649 inference_feedback_manager.cc:114] Feedback manager requires a model with a single signature inference. Disabling support for feedback tensors.\n"
     ]
    },
    {
     "name": "stdout",
     "output_type": "stream",
     "text": [
      "Processed computer video 10/10\n",
      "Completed sign: computer - 10 videos processed\n",
      "Video not found: WLASL_DATA/videos/05724.mp4\n",
      "Video not found: WLASL_DATA/videos/70348.mp4\n",
      "Video not found: WLASL_DATA/videos/68007.mp4\n",
      "Video not found: WLASL_DATA/videos/05744.mp4\n",
      "Video not found: WLASL_DATA/videos/05746.mp4\n"
     ]
    },
    {
     "name": "stderr",
     "output_type": "stream",
     "text": [
      "I0000 00:00:1743457832.169369  142202 gl_context.cc:369] GL version: 2.1 (2.1 Metal - 89.3), renderer: Apple M1 Pro\n",
      "W0000 00:00:1743457832.226847  162765 inference_feedback_manager.cc:114] Feedback manager requires a model with a single signature inference. Disabling support for feedback tensors.\n",
      "W0000 00:00:1743457832.239592  162764 inference_feedback_manager.cc:114] Feedback manager requires a model with a single signature inference. Disabling support for feedback tensors.\n",
      "W0000 00:00:1743457832.240909  162759 inference_feedback_manager.cc:114] Feedback manager requires a model with a single signature inference. Disabling support for feedback tensors.\n",
      "W0000 00:00:1743457832.241042  162765 inference_feedback_manager.cc:114] Feedback manager requires a model with a single signature inference. Disabling support for feedback tensors.\n",
      "W0000 00:00:1743457832.241106  162767 inference_feedback_manager.cc:114] Feedback manager requires a model with a single signature inference. Disabling support for feedback tensors.\n",
      "W0000 00:00:1743457832.245325  162765 inference_feedback_manager.cc:114] Feedback manager requires a model with a single signature inference. Disabling support for feedback tensors.\n",
      "W0000 00:00:1743457832.247285  162759 inference_feedback_manager.cc:114] Feedback manager requires a model with a single signature inference. Disabling support for feedback tensors.\n",
      "W0000 00:00:1743457832.247351  162767 inference_feedback_manager.cc:114] Feedback manager requires a model with a single signature inference. Disabling support for feedback tensors.\n"
     ]
    },
    {
     "name": "stdout",
     "output_type": "stream",
     "text": [
      "Processed before video 1/10\n",
      "Video not found: WLASL_DATA/videos/05747.mp4\n",
      "Video not found: WLASL_DATA/videos/05748.mp4\n"
     ]
    },
    {
     "name": "stderr",
     "output_type": "stream",
     "text": [
      "I0000 00:00:1743457833.770929  142202 gl_context.cc:369] GL version: 2.1 (2.1 Metal - 89.3), renderer: Apple M1 Pro\n",
      "W0000 00:00:1743457833.829597  162833 inference_feedback_manager.cc:114] Feedback manager requires a model with a single signature inference. Disabling support for feedback tensors.\n",
      "W0000 00:00:1743457833.842996  162831 inference_feedback_manager.cc:114] Feedback manager requires a model with a single signature inference. Disabling support for feedback tensors.\n",
      "W0000 00:00:1743457833.844433  162835 inference_feedback_manager.cc:114] Feedback manager requires a model with a single signature inference. Disabling support for feedback tensors.\n",
      "W0000 00:00:1743457833.844666  162840 inference_feedback_manager.cc:114] Feedback manager requires a model with a single signature inference. Disabling support for feedback tensors.\n",
      "W0000 00:00:1743457833.844686  162837 inference_feedback_manager.cc:114] Feedback manager requires a model with a single signature inference. Disabling support for feedback tensors.\n",
      "W0000 00:00:1743457833.849171  162835 inference_feedback_manager.cc:114] Feedback manager requires a model with a single signature inference. Disabling support for feedback tensors.\n",
      "W0000 00:00:1743457833.851197  162837 inference_feedback_manager.cc:114] Feedback manager requires a model with a single signature inference. Disabling support for feedback tensors.\n",
      "W0000 00:00:1743457833.851476  162836 inference_feedback_manager.cc:114] Feedback manager requires a model with a single signature inference. Disabling support for feedback tensors.\n"
     ]
    },
    {
     "name": "stdout",
     "output_type": "stream",
     "text": [
      "Processed before video 2/10\n"
     ]
    },
    {
     "name": "stderr",
     "output_type": "stream",
     "text": [
      "I0000 00:00:1743457835.169922  142202 gl_context.cc:369] GL version: 2.1 (2.1 Metal - 89.3), renderer: Apple M1 Pro\n",
      "W0000 00:00:1743457835.227260  162884 inference_feedback_manager.cc:114] Feedback manager requires a model with a single signature inference. Disabling support for feedback tensors.\n",
      "W0000 00:00:1743457835.239937  162884 inference_feedback_manager.cc:114] Feedback manager requires a model with a single signature inference. Disabling support for feedback tensors.\n",
      "W0000 00:00:1743457835.241429  162886 inference_feedback_manager.cc:114] Feedback manager requires a model with a single signature inference. Disabling support for feedback tensors.\n",
      "W0000 00:00:1743457835.242381  162884 inference_feedback_manager.cc:114] Feedback manager requires a model with a single signature inference. Disabling support for feedback tensors.\n",
      "W0000 00:00:1743457835.242420  162881 inference_feedback_manager.cc:114] Feedback manager requires a model with a single signature inference. Disabling support for feedback tensors.\n",
      "W0000 00:00:1743457835.247143  162884 inference_feedback_manager.cc:114] Feedback manager requires a model with a single signature inference. Disabling support for feedback tensors.\n",
      "W0000 00:00:1743457835.247159  162886 inference_feedback_manager.cc:114] Feedback manager requires a model with a single signature inference. Disabling support for feedback tensors.\n",
      "W0000 00:00:1743457835.248466  162890 inference_feedback_manager.cc:114] Feedback manager requires a model with a single signature inference. Disabling support for feedback tensors.\n"
     ]
    },
    {
     "name": "stdout",
     "output_type": "stream",
     "text": [
      "Processed before video 3/10\n"
     ]
    },
    {
     "name": "stderr",
     "output_type": "stream",
     "text": [
      "I0000 00:00:1743457836.575829  142202 gl_context.cc:369] GL version: 2.1 (2.1 Metal - 89.3), renderer: Apple M1 Pro\n",
      "W0000 00:00:1743457836.634605  162955 inference_feedback_manager.cc:114] Feedback manager requires a model with a single signature inference. Disabling support for feedback tensors.\n",
      "W0000 00:00:1743457836.647964  162955 inference_feedback_manager.cc:114] Feedback manager requires a model with a single signature inference. Disabling support for feedback tensors.\n",
      "W0000 00:00:1743457836.649581  162951 inference_feedback_manager.cc:114] Feedback manager requires a model with a single signature inference. Disabling support for feedback tensors.\n",
      "W0000 00:00:1743457836.649589  162952 inference_feedback_manager.cc:114] Feedback manager requires a model with a single signature inference. Disabling support for feedback tensors.\n",
      "W0000 00:00:1743457836.649604  162959 inference_feedback_manager.cc:114] Feedback manager requires a model with a single signature inference. Disabling support for feedback tensors.\n",
      "W0000 00:00:1743457836.654853  162957 inference_feedback_manager.cc:114] Feedback manager requires a model with a single signature inference. Disabling support for feedback tensors.\n",
      "W0000 00:00:1743457836.656684  162959 inference_feedback_manager.cc:114] Feedback manager requires a model with a single signature inference. Disabling support for feedback tensors.\n",
      "W0000 00:00:1743457836.656898  162952 inference_feedback_manager.cc:114] Feedback manager requires a model with a single signature inference. Disabling support for feedback tensors.\n"
     ]
    },
    {
     "name": "stdout",
     "output_type": "stream",
     "text": [
      "Processed before video 4/10\n"
     ]
    },
    {
     "name": "stderr",
     "output_type": "stream",
     "text": [
      "I0000 00:00:1743457838.644529  142202 gl_context.cc:369] GL version: 2.1 (2.1 Metal - 89.3), renderer: Apple M1 Pro\n",
      "W0000 00:00:1743457838.702149  163097 inference_feedback_manager.cc:114] Feedback manager requires a model with a single signature inference. Disabling support for feedback tensors.\n",
      "W0000 00:00:1743457838.715339  163095 inference_feedback_manager.cc:114] Feedback manager requires a model with a single signature inference. Disabling support for feedback tensors.\n",
      "W0000 00:00:1743457838.716711  163100 inference_feedback_manager.cc:114] Feedback manager requires a model with a single signature inference. Disabling support for feedback tensors.\n",
      "W0000 00:00:1743457838.716726  163097 inference_feedback_manager.cc:114] Feedback manager requires a model with a single signature inference. Disabling support for feedback tensors.\n",
      "W0000 00:00:1743457838.716974  163096 inference_feedback_manager.cc:114] Feedback manager requires a model with a single signature inference. Disabling support for feedback tensors.\n",
      "W0000 00:00:1743457838.721253  163098 inference_feedback_manager.cc:114] Feedback manager requires a model with a single signature inference. Disabling support for feedback tensors.\n",
      "W0000 00:00:1743457838.722951  163097 inference_feedback_manager.cc:114] Feedback manager requires a model with a single signature inference. Disabling support for feedback tensors.\n",
      "W0000 00:00:1743457838.723285  163096 inference_feedback_manager.cc:114] Feedback manager requires a model with a single signature inference. Disabling support for feedback tensors.\n"
     ]
    },
    {
     "name": "stdout",
     "output_type": "stream",
     "text": [
      "Processed before video 5/10\n"
     ]
    },
    {
     "name": "stderr",
     "output_type": "stream",
     "text": [
      "I0000 00:00:1743457840.390526  142202 gl_context.cc:369] GL version: 2.1 (2.1 Metal - 89.3), renderer: Apple M1 Pro\n",
      "W0000 00:00:1743457840.447735  163187 inference_feedback_manager.cc:114] Feedback manager requires a model with a single signature inference. Disabling support for feedback tensors.\n",
      "W0000 00:00:1743457840.461029  163192 inference_feedback_manager.cc:114] Feedback manager requires a model with a single signature inference. Disabling support for feedback tensors.\n",
      "W0000 00:00:1743457840.462534  163194 inference_feedback_manager.cc:114] Feedback manager requires a model with a single signature inference. Disabling support for feedback tensors.\n",
      "W0000 00:00:1743457840.462532  163190 inference_feedback_manager.cc:114] Feedback manager requires a model with a single signature inference. Disabling support for feedback tensors.\n",
      "W0000 00:00:1743457840.463241  163186 inference_feedback_manager.cc:114] Feedback manager requires a model with a single signature inference. Disabling support for feedback tensors.\n",
      "W0000 00:00:1743457840.467147  163190 inference_feedback_manager.cc:114] Feedback manager requires a model with a single signature inference. Disabling support for feedback tensors.\n",
      "W0000 00:00:1743457840.469538  163186 inference_feedback_manager.cc:114] Feedback manager requires a model with a single signature inference. Disabling support for feedback tensors.\n",
      "W0000 00:00:1743457840.469604  163194 inference_feedback_manager.cc:114] Feedback manager requires a model with a single signature inference. Disabling support for feedback tensors.\n"
     ]
    },
    {
     "name": "stdout",
     "output_type": "stream",
     "text": [
      "Processed before video 6/10\n"
     ]
    },
    {
     "name": "stderr",
     "output_type": "stream",
     "text": [
      "I0000 00:00:1743457841.710204  142202 gl_context.cc:369] GL version: 2.1 (2.1 Metal - 89.3), renderer: Apple M1 Pro\n",
      "W0000 00:00:1743457841.770355  163274 inference_feedback_manager.cc:114] Feedback manager requires a model with a single signature inference. Disabling support for feedback tensors.\n",
      "W0000 00:00:1743457841.783871  163281 inference_feedback_manager.cc:114] Feedback manager requires a model with a single signature inference. Disabling support for feedback tensors.\n",
      "W0000 00:00:1743457841.785355  163272 inference_feedback_manager.cc:114] Feedback manager requires a model with a single signature inference. Disabling support for feedback tensors.\n",
      "W0000 00:00:1743457841.785368  163276 inference_feedback_manager.cc:114] Feedback manager requires a model with a single signature inference. Disabling support for feedback tensors.\n",
      "W0000 00:00:1743457841.785355  163274 inference_feedback_manager.cc:114] Feedback manager requires a model with a single signature inference. Disabling support for feedback tensors.\n",
      "W0000 00:00:1743457841.790076  163274 inference_feedback_manager.cc:114] Feedback manager requires a model with a single signature inference. Disabling support for feedback tensors.\n",
      "W0000 00:00:1743457841.791675  163281 inference_feedback_manager.cc:114] Feedback manager requires a model with a single signature inference. Disabling support for feedback tensors.\n",
      "W0000 00:00:1743457841.792398  163272 inference_feedback_manager.cc:114] Feedback manager requires a model with a single signature inference. Disabling support for feedback tensors.\n"
     ]
    },
    {
     "name": "stdout",
     "output_type": "stream",
     "text": [
      "Processed before video 7/10\n"
     ]
    },
    {
     "name": "stderr",
     "output_type": "stream",
     "text": [
      "I0000 00:00:1743457843.645704  142202 gl_context.cc:369] GL version: 2.1 (2.1 Metal - 89.3), renderer: Apple M1 Pro\n",
      "W0000 00:00:1743457843.706639  163333 inference_feedback_manager.cc:114] Feedback manager requires a model with a single signature inference. Disabling support for feedback tensors.\n",
      "W0000 00:00:1743457843.719635  163334 inference_feedback_manager.cc:114] Feedback manager requires a model with a single signature inference. Disabling support for feedback tensors.\n",
      "W0000 00:00:1743457843.720947  163334 inference_feedback_manager.cc:114] Feedback manager requires a model with a single signature inference. Disabling support for feedback tensors.\n",
      "W0000 00:00:1743457843.720963  163338 inference_feedback_manager.cc:114] Feedback manager requires a model with a single signature inference. Disabling support for feedback tensors.\n",
      "W0000 00:00:1743457843.721093  163336 inference_feedback_manager.cc:114] Feedback manager requires a model with a single signature inference. Disabling support for feedback tensors.\n",
      "W0000 00:00:1743457843.725602  163332 inference_feedback_manager.cc:114] Feedback manager requires a model with a single signature inference. Disabling support for feedback tensors.\n",
      "W0000 00:00:1743457843.727300  163334 inference_feedback_manager.cc:114] Feedback manager requires a model with a single signature inference. Disabling support for feedback tensors.\n",
      "W0000 00:00:1743457843.727512  163340 inference_feedback_manager.cc:114] Feedback manager requires a model with a single signature inference. Disabling support for feedback tensors.\n"
     ]
    },
    {
     "name": "stdout",
     "output_type": "stream",
     "text": [
      "Processed before video 8/10\n"
     ]
    },
    {
     "name": "stderr",
     "output_type": "stream",
     "text": [
      "I0000 00:00:1743457845.058130  142202 gl_context.cc:369] GL version: 2.1 (2.1 Metal - 89.3), renderer: Apple M1 Pro\n",
      "W0000 00:00:1743457845.116873  163412 inference_feedback_manager.cc:114] Feedback manager requires a model with a single signature inference. Disabling support for feedback tensors.\n",
      "W0000 00:00:1743457845.130014  163412 inference_feedback_manager.cc:114] Feedback manager requires a model with a single signature inference. Disabling support for feedback tensors.\n",
      "W0000 00:00:1743457845.131429  163416 inference_feedback_manager.cc:114] Feedback manager requires a model with a single signature inference. Disabling support for feedback tensors.\n",
      "W0000 00:00:1743457845.131477  163413 inference_feedback_manager.cc:114] Feedback manager requires a model with a single signature inference. Disabling support for feedback tensors.\n",
      "W0000 00:00:1743457845.131506  163417 inference_feedback_manager.cc:114] Feedback manager requires a model with a single signature inference. Disabling support for feedback tensors.\n",
      "W0000 00:00:1743457845.136378  163409 inference_feedback_manager.cc:114] Feedback manager requires a model with a single signature inference. Disabling support for feedback tensors.\n",
      "W0000 00:00:1743457845.138265  163417 inference_feedback_manager.cc:114] Feedback manager requires a model with a single signature inference. Disabling support for feedback tensors.\n",
      "W0000 00:00:1743457845.138410  163413 inference_feedback_manager.cc:114] Feedback manager requires a model with a single signature inference. Disabling support for feedback tensors.\n"
     ]
    },
    {
     "name": "stdout",
     "output_type": "stream",
     "text": [
      "Processed before video 9/10\n"
     ]
    },
    {
     "name": "stderr",
     "output_type": "stream",
     "text": [
      "I0000 00:00:1743457846.543615  142202 gl_context.cc:369] GL version: 2.1 (2.1 Metal - 89.3), renderer: Apple M1 Pro\n",
      "W0000 00:00:1743457846.602213  163478 inference_feedback_manager.cc:114] Feedback manager requires a model with a single signature inference. Disabling support for feedback tensors.\n",
      "W0000 00:00:1743457846.615303  163478 inference_feedback_manager.cc:114] Feedback manager requires a model with a single signature inference. Disabling support for feedback tensors.\n",
      "W0000 00:00:1743457846.616637  163478 inference_feedback_manager.cc:114] Feedback manager requires a model with a single signature inference. Disabling support for feedback tensors.\n",
      "W0000 00:00:1743457846.616797  163481 inference_feedback_manager.cc:114] Feedback manager requires a model with a single signature inference. Disabling support for feedback tensors.\n",
      "W0000 00:00:1743457846.617519  163484 inference_feedback_manager.cc:114] Feedback manager requires a model with a single signature inference. Disabling support for feedback tensors.\n",
      "W0000 00:00:1743457846.621291  163478 inference_feedback_manager.cc:114] Feedback manager requires a model with a single signature inference. Disabling support for feedback tensors.\n",
      "W0000 00:00:1743457846.622876  163481 inference_feedback_manager.cc:114] Feedback manager requires a model with a single signature inference. Disabling support for feedback tensors.\n",
      "W0000 00:00:1743457846.623734  163484 inference_feedback_manager.cc:114] Feedback manager requires a model with a single signature inference. Disabling support for feedback tensors.\n"
     ]
    },
    {
     "name": "stdout",
     "output_type": "stream",
     "text": [
      "Processed before video 10/10\n",
      "Completed sign: before - 10 videos processed\n",
      "Video not found: WLASL_DATA/videos/09847.mp4\n",
      "Video not found: WLASL_DATA/videos/70230.mp4\n",
      "Video not found: WLASL_DATA/videos/68580.mp4\n",
      "Video not found: WLASL_DATA/videos/70263.mp4\n",
      "Video not found: WLASL_DATA/videos/68019.mp4\n",
      "Video not found: WLASL_DATA/videos/09865.mp4\n",
      "Video not found: WLASL_DATA/videos/09866.mp4\n"
     ]
    },
    {
     "name": "stderr",
     "output_type": "stream",
     "text": [
      "I0000 00:00:1743457847.964265  142202 gl_context.cc:369] GL version: 2.1 (2.1 Metal - 89.3), renderer: Apple M1 Pro\n",
      "W0000 00:00:1743457848.023626  163561 inference_feedback_manager.cc:114] Feedback manager requires a model with a single signature inference. Disabling support for feedback tensors.\n",
      "W0000 00:00:1743457848.036677  163560 inference_feedback_manager.cc:114] Feedback manager requires a model with a single signature inference. Disabling support for feedback tensors.\n",
      "W0000 00:00:1743457848.038172  163566 inference_feedback_manager.cc:114] Feedback manager requires a model with a single signature inference. Disabling support for feedback tensors.\n",
      "W0000 00:00:1743457848.038174  163568 inference_feedback_manager.cc:114] Feedback manager requires a model with a single signature inference. Disabling support for feedback tensors.\n",
      "W0000 00:00:1743457848.038900  163562 inference_feedback_manager.cc:114] Feedback manager requires a model with a single signature inference. Disabling support for feedback tensors.\n",
      "W0000 00:00:1743457848.043759  163560 inference_feedback_manager.cc:114] Feedback manager requires a model with a single signature inference. Disabling support for feedback tensors.\n",
      "W0000 00:00:1743457848.044597  163567 inference_feedback_manager.cc:114] Feedback manager requires a model with a single signature inference. Disabling support for feedback tensors.\n",
      "W0000 00:00:1743457848.044973  163568 inference_feedback_manager.cc:114] Feedback manager requires a model with a single signature inference. Disabling support for feedback tensors.\n"
     ]
    },
    {
     "name": "stdout",
     "output_type": "stream",
     "text": [
      "Processed chair video 1/10\n",
      "Video not found: WLASL_DATA/videos/09867.mp4\n"
     ]
    },
    {
     "name": "stderr",
     "output_type": "stream",
     "text": [
      "I0000 00:00:1743457849.246725  142202 gl_context.cc:369] GL version: 2.1 (2.1 Metal - 89.3), renderer: Apple M1 Pro\n",
      "W0000 00:00:1743457849.304135  163605 inference_feedback_manager.cc:114] Feedback manager requires a model with a single signature inference. Disabling support for feedback tensors.\n",
      "W0000 00:00:1743457849.317549  163605 inference_feedback_manager.cc:114] Feedback manager requires a model with a single signature inference. Disabling support for feedback tensors.\n",
      "W0000 00:00:1743457849.319051  163611 inference_feedback_manager.cc:114] Feedback manager requires a model with a single signature inference. Disabling support for feedback tensors.\n",
      "W0000 00:00:1743457849.319054  163604 inference_feedback_manager.cc:114] Feedback manager requires a model with a single signature inference. Disabling support for feedback tensors.\n",
      "W0000 00:00:1743457849.319116  163608 inference_feedback_manager.cc:114] Feedback manager requires a model with a single signature inference. Disabling support for feedback tensors.\n",
      "W0000 00:00:1743457849.323921  163606 inference_feedback_manager.cc:114] Feedback manager requires a model with a single signature inference. Disabling support for feedback tensors.\n",
      "W0000 00:00:1743457849.325909  163611 inference_feedback_manager.cc:114] Feedback manager requires a model with a single signature inference. Disabling support for feedback tensors.\n",
      "W0000 00:00:1743457849.326586  163608 inference_feedback_manager.cc:114] Feedback manager requires a model with a single signature inference. Disabling support for feedback tensors.\n"
     ]
    },
    {
     "name": "stdout",
     "output_type": "stream",
     "text": [
      "Processed chair video 2/10\n"
     ]
    },
    {
     "name": "stderr",
     "output_type": "stream",
     "text": [
      "I0000 00:00:1743457850.633161  142202 gl_context.cc:369] GL version: 2.1 (2.1 Metal - 89.3), renderer: Apple M1 Pro\n",
      "W0000 00:00:1743457850.692912  163677 inference_feedback_manager.cc:114] Feedback manager requires a model with a single signature inference. Disabling support for feedback tensors.\n",
      "W0000 00:00:1743457850.705977  163677 inference_feedback_manager.cc:114] Feedback manager requires a model with a single signature inference. Disabling support for feedback tensors.\n",
      "W0000 00:00:1743457850.707307  163676 inference_feedback_manager.cc:114] Feedback manager requires a model with a single signature inference. Disabling support for feedback tensors.\n",
      "W0000 00:00:1743457850.707387  163680 inference_feedback_manager.cc:114] Feedback manager requires a model with a single signature inference. Disabling support for feedback tensors.\n",
      "W0000 00:00:1743457850.708095  163675 inference_feedback_manager.cc:114] Feedback manager requires a model with a single signature inference. Disabling support for feedback tensors.\n",
      "W0000 00:00:1743457850.711947  163680 inference_feedback_manager.cc:114] Feedback manager requires a model with a single signature inference. Disabling support for feedback tensors.\n",
      "W0000 00:00:1743457850.714249  163676 inference_feedback_manager.cc:114] Feedback manager requires a model with a single signature inference. Disabling support for feedback tensors.\n",
      "W0000 00:00:1743457850.714900  163675 inference_feedback_manager.cc:114] Feedback manager requires a model with a single signature inference. Disabling support for feedback tensors.\n"
     ]
    },
    {
     "name": "stdout",
     "output_type": "stream",
     "text": [
      "Processed chair video 3/10\n"
     ]
    },
    {
     "name": "stderr",
     "output_type": "stream",
     "text": [
      "I0000 00:00:1743457852.500171  142202 gl_context.cc:369] GL version: 2.1 (2.1 Metal - 89.3), renderer: Apple M1 Pro\n",
      "W0000 00:00:1743457852.559507  163783 inference_feedback_manager.cc:114] Feedback manager requires a model with a single signature inference. Disabling support for feedback tensors.\n",
      "W0000 00:00:1743457852.572757  163783 inference_feedback_manager.cc:114] Feedback manager requires a model with a single signature inference. Disabling support for feedback tensors.\n",
      "W0000 00:00:1743457852.574147  163789 inference_feedback_manager.cc:114] Feedback manager requires a model with a single signature inference. Disabling support for feedback tensors.\n",
      "W0000 00:00:1743457852.574147  163787 inference_feedback_manager.cc:114] Feedback manager requires a model with a single signature inference. Disabling support for feedback tensors.\n",
      "W0000 00:00:1743457852.574236  163790 inference_feedback_manager.cc:114] Feedback manager requires a model with a single signature inference. Disabling support for feedback tensors.\n",
      "W0000 00:00:1743457852.578936  163790 inference_feedback_manager.cc:114] Feedback manager requires a model with a single signature inference. Disabling support for feedback tensors.\n",
      "W0000 00:00:1743457852.580791  163782 inference_feedback_manager.cc:114] Feedback manager requires a model with a single signature inference. Disabling support for feedback tensors.\n",
      "W0000 00:00:1743457852.580848  163789 inference_feedback_manager.cc:114] Feedback manager requires a model with a single signature inference. Disabling support for feedback tensors.\n"
     ]
    },
    {
     "name": "stdout",
     "output_type": "stream",
     "text": [
      "Processed chair video 4/10\n"
     ]
    },
    {
     "name": "stderr",
     "output_type": "stream",
     "text": [
      "I0000 00:00:1743457854.294454  142202 gl_context.cc:369] GL version: 2.1 (2.1 Metal - 89.3), renderer: Apple M1 Pro\n",
      "W0000 00:00:1743457854.356448  163864 inference_feedback_manager.cc:114] Feedback manager requires a model with a single signature inference. Disabling support for feedback tensors.\n",
      "W0000 00:00:1743457854.369625  163871 inference_feedback_manager.cc:114] Feedback manager requires a model with a single signature inference. Disabling support for feedback tensors.\n",
      "W0000 00:00:1743457854.371087  163864 inference_feedback_manager.cc:114] Feedback manager requires a model with a single signature inference. Disabling support for feedback tensors.\n",
      "W0000 00:00:1743457854.371094  163866 inference_feedback_manager.cc:114] Feedback manager requires a model with a single signature inference. Disabling support for feedback tensors.\n",
      "W0000 00:00:1743457854.372022  163870 inference_feedback_manager.cc:114] Feedback manager requires a model with a single signature inference. Disabling support for feedback tensors.\n",
      "W0000 00:00:1743457854.376762  163865 inference_feedback_manager.cc:114] Feedback manager requires a model with a single signature inference. Disabling support for feedback tensors.\n",
      "W0000 00:00:1743457854.377543  163867 inference_feedback_manager.cc:114] Feedback manager requires a model with a single signature inference. Disabling support for feedback tensors.\n",
      "W0000 00:00:1743457854.377550  163871 inference_feedback_manager.cc:114] Feedback manager requires a model with a single signature inference. Disabling support for feedback tensors.\n"
     ]
    },
    {
     "name": "stdout",
     "output_type": "stream",
     "text": [
      "Processed chair video 5/10\n"
     ]
    },
    {
     "name": "stderr",
     "output_type": "stream",
     "text": [
      "I0000 00:00:1743457855.756435  142202 gl_context.cc:369] GL version: 2.1 (2.1 Metal - 89.3), renderer: Apple M1 Pro\n",
      "W0000 00:00:1743457855.818791  163895 inference_feedback_manager.cc:114] Feedback manager requires a model with a single signature inference. Disabling support for feedback tensors.\n",
      "W0000 00:00:1743457855.833041  163895 inference_feedback_manager.cc:114] Feedback manager requires a model with a single signature inference. Disabling support for feedback tensors.\n",
      "W0000 00:00:1743457855.834263  163896 inference_feedback_manager.cc:114] Feedback manager requires a model with a single signature inference. Disabling support for feedback tensors.\n",
      "W0000 00:00:1743457855.834350  163899 inference_feedback_manager.cc:114] Feedback manager requires a model with a single signature inference. Disabling support for feedback tensors.\n",
      "W0000 00:00:1743457855.835094  163894 inference_feedback_manager.cc:114] Feedback manager requires a model with a single signature inference. Disabling support for feedback tensors.\n",
      "W0000 00:00:1743457855.839116  163896 inference_feedback_manager.cc:114] Feedback manager requires a model with a single signature inference. Disabling support for feedback tensors.\n",
      "W0000 00:00:1743457855.840720  163899 inference_feedback_manager.cc:114] Feedback manager requires a model with a single signature inference. Disabling support for feedback tensors.\n",
      "W0000 00:00:1743457855.841306  163894 inference_feedback_manager.cc:114] Feedback manager requires a model with a single signature inference. Disabling support for feedback tensors.\n"
     ]
    },
    {
     "name": "stdout",
     "output_type": "stream",
     "text": [
      "Processed chair video 6/10\n",
      "Video not found: WLASL_DATA/videos/09853.mp4\n"
     ]
    },
    {
     "name": "stderr",
     "output_type": "stream",
     "text": [
      "I0000 00:00:1743457857.124050  142202 gl_context.cc:369] GL version: 2.1 (2.1 Metal - 89.3), renderer: Apple M1 Pro\n",
      "W0000 00:00:1743457857.184880  163968 inference_feedback_manager.cc:114] Feedback manager requires a model with a single signature inference. Disabling support for feedback tensors.\n",
      "W0000 00:00:1743457857.199293  163973 inference_feedback_manager.cc:114] Feedback manager requires a model with a single signature inference. Disabling support for feedback tensors.\n",
      "W0000 00:00:1743457857.200649  163969 inference_feedback_manager.cc:114] Feedback manager requires a model with a single signature inference. Disabling support for feedback tensors.\n",
      "W0000 00:00:1743457857.200744  163968 inference_feedback_manager.cc:114] Feedback manager requires a model with a single signature inference. Disabling support for feedback tensors.\n",
      "W0000 00:00:1743457857.201343  163975 inference_feedback_manager.cc:114] Feedback manager requires a model with a single signature inference. Disabling support for feedback tensors.\n",
      "W0000 00:00:1743457857.205538  163968 inference_feedback_manager.cc:114] Feedback manager requires a model with a single signature inference. Disabling support for feedback tensors.\n",
      "W0000 00:00:1743457857.207344  163969 inference_feedback_manager.cc:114] Feedback manager requires a model with a single signature inference. Disabling support for feedback tensors.\n",
      "W0000 00:00:1743457857.207885  163973 inference_feedback_manager.cc:114] Feedback manager requires a model with a single signature inference. Disabling support for feedback tensors.\n"
     ]
    }
   ],
   "source": [
    "# Testing with small subset\n",
    "process_wlasl_dataset(max_signs=10, max_videos_per_sign=10)"
   ]
  },
  {
   "cell_type": "code",
   "execution_count": null,
   "id": "ff5c36b6-e951-4780-88ce-27d150ed7c1d",
   "metadata": {},
   "outputs": [],
   "source": [
    "# Process Entire Dataset\n",
    "process_wlasl_dataset()"
   ]
  },
  {
   "cell_type": "markdown",
   "id": "594e5ae5-d258-4e07-bfd6-43cbbf002cb9",
   "metadata": {},
   "source": [
    "## Dataset Colelction Pipeline for Custom Camera Recordings"
   ]
  },
  {
   "cell_type": "code",
   "execution_count": 9,
   "id": "dfa5fdfe-c87e-4bf4-a156-a38ff68114e4",
   "metadata": {},
   "outputs": [],
   "source": [
    "# Create Directories to store data\n",
    "def create_directories(actions):\n",
    "    DATA_PATH = os.path.join('MP_Data')\n",
    "\n",
    "    # Detecting Actions\n",
    "    for action in actions:\n",
    "        # 30 is often considered minimum threshold to detect meaningful patterns\n",
    "        # n >= 30 commonly used as rule of thumb\n",
    "        for sequence in range(30): # 30 videos per action \n",
    "            try:\n",
    "                os.makedirs(os.path.join(DATA_PATH, action, str(sequence)))\n",
    "            except:\n",
    "                pass\n",
    "\n",
    "def collect_asl_data():\n",
    "    # Define Actions - starting with a small set for testing\n",
    "    actions = np.array(['hello', 'thanks', 'iloveyou', 'yes', 'no', 'please', 'sorry'])\n",
    "\n",
    "    # create directories for data collection - 30 directories per action\n",
    "    create_directories(actions)\n",
    "\n",
    "    # Define data path\n",
    "    DATA_PATH = os.path.join('MP_Data')\n",
    "\n",
    "    # set up holistic model\n",
    "    cap, holistic = setup_holistic_detection()\n",
    "\n",
    "    # Loop through different actions\n",
    "    for action in actions:\n",
    "        # loop through sequences\n",
    "        for sequence in range(30):\n",
    "            # loop through video length of 30 frames\n",
    "            for frame_num in range(30):\n",
    "                # Read Feed\n",
    "                ret, frame = cap.read()\n",
    "                if not ret:\n",
    "                    print('Failed to grab frame')\n",
    "                    break\n",
    "\n",
    "                # Process the frame for landmark detection\n",
    "                image, results = process_mp_frames(frame, holistic)\n",
    "\n",
    "                # Draw Landmarks on the image\n",
    "                draw_landmarks(image, results)\n",
    "\n",
    "                # Apply status text to the frame\n",
    "                if frame_num == 0:\n",
    "                    # Visual Countdown before starting each sequence\n",
    "                    cv2.putText(image, 'STARTING COLLECTION', (120, 200), \n",
    "                               cv2.FONT_HERSHEY_SIMPLEX, 1, (0, 255, 0), 4, cv2.LINE_AA)\n",
    "                    cv2.putText(image, f'Collecting for {action} - Sequence {sequence}', (15, 15), \n",
    "                               cv2.FONT_HERSHEY_SIMPLEX, 1, (0, 0, 255), 2, cv2.LINE_AA)\n",
    "                    cv2.imshow('ASL Data Collection', image)\n",
    "                    cv2.waitKey(2000)  # Wait 2 seconds before starting\n",
    "                else:\n",
    "                    # Display collection status\n",
    "                    cv2.putText(image, f'Collecting for {action} - Sequence {sequence}', (15, 15), \n",
    "                               cv2.FONT_HERSHEY_SIMPLEX, 1, (0, 0, 255), 2, cv2.LINE_AA)\n",
    "                    cv2.putText(image, f'Frame {frame_num}', (15, 30), \n",
    "                               cv2.FONT_HERSHEY_SIMPLEX, 1, (0, 0, 255), 2, cv2.LINE_AA)\n",
    "\n",
    "                # show to screen\n",
    "                cv2.imshow('ASK Data Collection', image)\n",
    "\n",
    "                # Export keypoints\n",
    "                keypoints_vector = extract_keypoints_comprehensive(results)\n",
    "                npy_path = os.path.join(DATA_PATH, action, str(sequence), str(frame_num))\n",
    "                np.save(npy_path, keypoints_vector)\n",
    "                \n",
    "                # Break gracefully on 'q' press\n",
    "                if cv2.waitKey(10) & 0xFF == ord('q'):\n",
    "                    cap.release()\n",
    "                    cv2.destroyAllWindows()\n",
    "                    return\n",
    "            \n",
    "            # Short break between sequences\n",
    "            if sequence < 29:  # Don't show after the last sequence\n",
    "                # Display break message\n",
    "                ret, frame = cap.read()\n",
    "                if ret:\n",
    "                    image = cv2.cvtColor(frame, cv2.COLOR_BGR2RGB)\n",
    "                    image = cv2.cvtColor(image, cv2.COLOR_RGB2BGR)\n",
    "                    cv2.putText(image, 'SEQUENCE COMPLETE', (120, 200), \n",
    "                               cv2.FONT_HERSHEY_SIMPLEX, 1, (0, 255, 0), 4, cv2.LINE_AA)\n",
    "                    cv2.putText(image, 'Preparing for next sequence...', (120, 230), \n",
    "                               cv2.FONT_HERSHEY_SIMPLEX, 0.5, (0, 255, 0), 1, cv2.LINE_AA)\n",
    "                    cv2.imshow('ASL Data Collection', image)\n",
    "                cv2.waitKey(2000)  # 2 second break\n",
    "    \n",
    "    # Release resources\n",
    "    cap.release()\n",
    "    cv2.destroyAllWindows()\n",
    "    print(\"Data collection complete!\")"
   ]
  },
  {
   "cell_type": "code",
   "execution_count": 10,
   "id": "e08caf0e-f437-4482-9242-e01da4a8cc08",
   "metadata": {},
   "outputs": [
    {
     "name": "stderr",
     "output_type": "stream",
     "text": [
      "2025-03-28 11:00:29.235 Python[40342:16951070] WARNING: AVCaptureDeviceTypeExternal is deprecated for Continuity Cameras. Please use AVCaptureDeviceTypeContinuityCamera and add NSCameraUseContinuityCameraDeviceType to your Info.plist.\n",
      "WARNING: All log messages before absl::InitializeLog() is called are written to STDERR\n",
      "I0000 00:00:1743174030.624805 16951070 gl_context.cc:369] GL version: 2.1 (2.1 Metal - 89.3), renderer: Apple M1 Pro\n",
      "INFO: Created TensorFlow Lite XNNPACK delegate for CPU.\n",
      "W0000 00:00:1743174030.698996 16952277 inference_feedback_manager.cc:114] Feedback manager requires a model with a single signature inference. Disabling support for feedback tensors.\n",
      "W0000 00:00:1743174030.714151 16952270 inference_feedback_manager.cc:114] Feedback manager requires a model with a single signature inference. Disabling support for feedback tensors.\n",
      "W0000 00:00:1743174030.716951 16952272 inference_feedback_manager.cc:114] Feedback manager requires a model with a single signature inference. Disabling support for feedback tensors.\n",
      "W0000 00:00:1743174030.717010 16952276 inference_feedback_manager.cc:114] Feedback manager requires a model with a single signature inference. Disabling support for feedback tensors.\n",
      "W0000 00:00:1743174030.717046 16952273 inference_feedback_manager.cc:114] Feedback manager requires a model with a single signature inference. Disabling support for feedback tensors.\n",
      "W0000 00:00:1743174030.724673 16952273 inference_feedback_manager.cc:114] Feedback manager requires a model with a single signature inference. Disabling support for feedback tensors.\n",
      "W0000 00:00:1743174030.728515 16952276 inference_feedback_manager.cc:114] Feedback manager requires a model with a single signature inference. Disabling support for feedback tensors.\n",
      "W0000 00:00:1743174030.728572 16952272 inference_feedback_manager.cc:114] Feedback manager requires a model with a single signature inference. Disabling support for feedback tensors.\n",
      "2025-03-28 11:00:31.144 Python[40342:16951070] +[IMKClient subclass]: chose IMKClient_Modern\n",
      "2025-03-28 11:00:31.144 Python[40342:16951070] +[IMKInputSession subclass]: chose IMKInputSession_Modern\n"
     ]
    },
    {
     "name": "stdout",
     "output_type": "stream",
     "text": [
      "[0. 0. 0. ... 0. 0. 0.]\n",
      "[ 0.52983934  0.65255779 -0.81979042 ...  0.27065799  0.56299394\n",
      " -0.03344227]\n",
      "[ 0.53177369  0.65267652 -0.83753949 ...  0.28021303  0.55900109\n",
      " -0.02965582]\n"
     ]
    },
    {
     "name": "stderr",
     "output_type": "stream",
     "text": [
      "W0000 00:00:1743174032.920365 16952272 landmark_projection_calculator.cc:186] Using NORM_RECT without IMAGE_DIMENSIONS is only supported for the square ROI. Provide IMAGE_DIMENSIONS or use PROJECTION_MATRIX.\n"
     ]
    },
    {
     "name": "stdout",
     "output_type": "stream",
     "text": [
      "[ 0.53282154  0.65288162 -0.73916668 ...  0.28228977  0.56940174\n",
      " -0.03039847]\n",
      "[ 0.53346562  0.65289038 -0.75328124 ...  0.28090003  0.58425015\n",
      " -0.03425811]\n",
      "[ 0.5342502   0.65591425 -0.70599139 ...  0.27849773  0.59796286\n",
      " -0.0335652 ]\n",
      "[ 0.53548741  0.65877414 -0.73717904 ...  0.27847347  0.60502571\n",
      " -0.03121363]\n",
      "[ 0.53625637  0.66370994 -0.74308914 ...  0.27984151  0.6112386\n",
      " -0.03471507]\n",
      "[ 0.53715897  0.66643572 -0.7489261  ...  0.28361732  0.61474425\n",
      " -0.03286409]\n",
      "[ 0.53760546  0.66778022 -0.66063136 ...  0.28296655  0.61062664\n",
      " -0.02941914]\n",
      "[ 0.53758371  0.66822898 -0.64128596 ...  0.28318027  0.60386109\n",
      " -0.02978708]\n",
      "[ 0.53777122  0.6710366  -0.65361899 ...  0.28726658  0.58771473\n",
      " -0.02845259]\n",
      "[ 0.53750038  0.66830295 -0.67829019 ...  0.28796375  0.55751872\n",
      " -0.02893239]\n",
      "[ 0.53702503  0.66762495 -0.77733433 ...  0.28608632  0.53952688\n",
      " -0.02583328]\n",
      "[ 0.5369252   0.66344428 -0.76855367 ...  0.28514442  0.52349126\n",
      " -0.0285382 ]\n",
      "[ 0.5356127   0.65518117 -0.86727172 ...  0.28295818  0.50810349\n",
      " -0.02709372]\n",
      "[ 0.53353935  0.64897114 -1.00345147 ...  0.27702898  0.49291319\n",
      " -0.03177628]\n",
      "[ 0.52750641  0.63888842 -0.94774741 ...  0.26912212  0.47783598\n",
      " -0.03197556]\n",
      "[ 0.52280825  0.63152844 -1.02516675 ...  0.2597273   0.46344852\n",
      " -0.03045428]\n",
      "[ 0.52011758  0.62426049 -0.98400694 ...  0.25208846  0.44666922\n",
      " -0.03050458]\n",
      "[ 0.51791298  0.6183874  -0.94882756 ...  0.24500175  0.4354645\n",
      " -0.02992133]\n",
      "[ 0.51610863  0.60956681 -0.96625996 ...  0.23862895  0.42835981\n",
      " -0.03086916]\n",
      "[ 0.51398289  0.60406178 -0.97408998 ...  0.25170299  0.42995813\n",
      " -0.02899721]\n",
      "[ 0.51187712  0.5977326  -1.01920509 ...  0.29513296  0.44387865\n",
      " -0.04392709]\n",
      "[ 0.51216179  0.59373128 -0.79870677 ...  0.34254739  0.47065991\n",
      " -0.07142425]\n",
      "[ 0.51235896  0.58682925 -0.80040807 ...  0.34103006  0.45604578\n",
      " -0.09198825]\n",
      "[ 0.51376373  0.58605635 -0.83382803 ...  0.33792505  0.45101765\n",
      " -0.0633887 ]\n",
      "[ 0.52046478  0.58564532 -0.8108893  ...  0.29786938  0.43898183\n",
      " -0.05212561]\n",
      "[ 0.52187526  0.57791394 -0.7712307  ...  0.25166392  0.41869467\n",
      " -0.03180235]\n",
      "[ 0.52751321  0.57040435 -0.73803222 ...  0.24526797  0.4087683\n",
      " -0.01749596]\n",
      "[ 0.53622764  0.57037908 -0.75782162 ...  0.          0.\n",
      "  0.        ]\n",
      "[ 0.54689568  0.59227449 -0.68274689 ...  0.24005467  0.49400809\n",
      "  0.00517186]\n",
      "[ 0.55189353  0.59423542 -0.60620964 ...  0.21125489  0.48953554\n",
      " -0.01003169]\n",
      "[ 0.55406153  0.5943861  -0.53832591 ...  0.23265986  0.4880895\n",
      " -0.02583348]\n",
      "[ 0.55678123  0.59361917 -0.56974638 ...  0.25240135  0.48884875\n",
      " -0.02329353]\n",
      "[ 0.55996871  0.5937646  -0.58670712 ...  0.24015452  0.49140581\n",
      " -0.02470982]\n",
      "[ 0.56106466  0.5940485  -0.57055694 ...  0.21501671  0.49026382\n",
      " -0.02289417]\n",
      "[ 0.56131655  0.5941689  -0.55834681 ...  0.21620885  0.49517709\n",
      " -0.026165  ]\n",
      "[ 0.56051278  0.59417468 -0.56785583 ...  0.24855509  0.48808381\n",
      " -0.02712823]\n",
      "[ 0.56032193  0.59503388 -0.56968558 ...  0.24976243  0.496465\n",
      " -0.01869379]\n",
      "[ 0.55978274  0.59504795 -0.56994206 ...  0.22293398  0.49467462\n",
      " -0.02237781]\n",
      "[ 0.55935973  0.59523225 -0.56961805 ...  0.22640386  0.49642432\n",
      " -0.02190701]\n",
      "[ 0.55903333  0.59501314 -0.57822406 ...  0.2641331   0.48903006\n",
      " -0.02950433]\n",
      "[ 0.55853802  0.59521967 -0.55129284 ...  0.26316968  0.49456668\n",
      " -0.02663214]\n",
      "[ 0.5581916   0.59584147 -0.59664887 ...  0.22480103  0.49070743\n",
      " -0.02748611]\n",
      "[ 0.55791128  0.6006493  -0.6088835  ...  0.20478529  0.49781305\n",
      " -0.02280492]\n",
      "[ 0.5577001   0.60188389 -0.6195398  ...  0.23774146  0.49225324\n",
      " -0.02968761]\n",
      "[ 0.55760103  0.60811025 -0.60772163 ...  0.26253912  0.49979922\n",
      " -0.01977921]\n",
      "[ 0.55755788  0.61074787 -0.61226135 ...  0.24482492  0.49753273\n",
      " -0.02784068]\n",
      "[ 0.55750084  0.61285466 -0.60436362 ...  0.20794879  0.50254154\n",
      " -0.02377964]\n",
      "[ 0.55747396  0.61430156 -0.61775905 ...  0.2077419   0.5132733\n",
      " -0.02721021]\n",
      "[ 0.55739623  0.61490715 -0.61873502 ...  0.22658247  0.53038204\n",
      " -0.01914411]\n",
      "[ 0.55733454  0.61716509 -0.63724905 ...  0.2160451   0.5392195\n",
      " -0.02173094]\n",
      "[ 0.55762064  0.61944371 -0.58186841 ...  0.17950743  0.53981853\n",
      " -0.0270376 ]\n",
      "[ 0.55756027  0.62068886 -0.54889035 ...  0.16548492  0.53227383\n",
      " -0.02270655]\n",
      "[ 0.55753791  0.62064505 -0.54910773 ...  0.20585616  0.52058792\n",
      " -0.02338361]\n",
      "[ 0.55701715  0.62066907 -0.56183797 ...  0.23149206  0.51705575\n",
      " -0.01593055]\n",
      "[ 0.55693686  0.62074941 -0.57996833 ...  0.20938128  0.51448804\n",
      " -0.02732478]\n",
      "[ 0.55691874  0.62079078 -0.58036554 ...  0.17022128  0.51098061\n",
      " -0.02636016]\n",
      "[ 0.55705017  0.62190157 -0.62235916 ...  0.1723395   0.51625288\n",
      " -0.02305827]\n",
      "[ 0.69357669  0.74552751 -0.76426321 ...  0.          0.\n",
      "  0.        ]\n",
      "[ 0.70006764  0.77333552 -0.83172888 ...  0.          0.\n",
      "  0.        ]\n",
      "[ 0.70149219  0.77241021 -0.89907235 ...  0.          0.\n",
      "  0.        ]\n",
      "[ 0.6965704   0.76943123 -0.69724125 ...  0.          0.\n",
      "  0.        ]\n",
      "[ 0.69126594  0.75935048 -0.53592521 ...  0.          0.\n",
      "  0.        ]\n",
      "[ 0.69449335  0.76131934 -0.57874793 ...  0.          0.\n",
      "  0.        ]\n",
      "[ 0.69818658  0.76598132 -0.61414146 ...  0.          0.\n",
      "  0.        ]\n",
      "[ 0.69492573  0.76835269 -0.62284219 ...  0.          0.\n",
      "  0.        ]\n",
      "[ 0.696316    0.7713753  -0.68061227 ...  0.          0.\n",
      "  0.        ]\n",
      "[ 0.69534427  0.77077031 -0.68751621 ...  0.          0.\n",
      "  0.        ]\n",
      "[ 0.69170558  0.7681545  -0.60464442 ...  0.          0.\n",
      "  0.        ]\n",
      "[ 0.68959576  0.75473845 -0.55949044 ...  0.          0.\n",
      "  0.        ]\n",
      "[ 0.68571115  0.74192792 -0.56760108 ...  0.          0.\n",
      "  0.        ]\n",
      "[ 0.66919261  0.73024708 -0.6992448  ...  0.          0.\n",
      "  0.        ]\n",
      "[ 0.64862496  0.71739596 -0.68480802 ...  0.          0.\n",
      "  0.        ]\n",
      "[ 0.64112014  0.71009821 -0.67844468 ...  0.          0.\n",
      "  0.        ]\n",
      "[ 0.63709575  0.71163785 -0.58497643 ...  0.          0.\n",
      "  0.        ]\n",
      "[ 0.63606209  0.71023697 -0.61642802 ...  0.          0.\n",
      "  0.        ]\n",
      "[ 0.63696587  0.71119308 -0.61480141 ...  0.          0.\n",
      "  0.        ]\n",
      "[ 0.63288963  0.70583093 -0.63319504 ...  0.          0.\n",
      "  0.        ]\n",
      "[ 0.63176751  0.70639855 -0.58442855 ...  0.          0.\n",
      "  0.        ]\n",
      "[ 0.63119686  0.70690739 -0.59727186 ...  0.          0.\n",
      "  0.        ]\n",
      "[ 0.63052285  0.70768046 -0.61154932 ...  0.          0.\n",
      "  0.        ]\n",
      "[ 0.62748158  0.70925087 -0.69186294 ...  0.          0.\n",
      "  0.        ]\n",
      "[ 0.62831271  0.71013325 -0.71988547 ...  0.          0.\n",
      "  0.        ]\n",
      "[ 0.62866521  0.7136026  -0.66568083 ...  0.          0.\n",
      "  0.        ]\n",
      "[ 0.62882453  0.71690822 -0.73864359 ...  0.          0.\n",
      "  0.        ]\n",
      "[ 0.6284371   0.71750045 -0.71037513 ...  0.34987596  0.7917816\n",
      " -0.03416638]\n",
      "[ 0.62664628  0.72012734 -0.58497679 ...  0.3816241   0.6895048\n",
      " -0.04934867]\n",
      "[ 0.62472194  0.72244006 -0.63321191 ...  0.49035195  0.66986132\n",
      " -0.0227802 ]\n",
      "[ 0.64035183  0.70757002 -0.63622153 ...  0.31298631  0.86640865\n",
      " -0.00504829]\n",
      "[ 0.64213008  0.75934905 -0.56742078 ...  0.          0.\n",
      "  0.        ]\n",
      "[ 0.64205909  0.77340657 -0.59389287 ...  0.          0.\n",
      "  0.        ]\n",
      "[ 0.64170587  0.76666141 -0.58150852 ...  0.          0.\n",
      "  0.        ]\n",
      "[ 0.64203542  0.76398045 -0.68533295 ...  0.          0.\n",
      "  0.        ]\n",
      "[ 0.64508533  0.76948577 -0.59087795 ...  0.          0.\n",
      "  0.        ]\n",
      "[ 0.65182251  0.76805526 -0.59055221 ...  0.          0.\n",
      "  0.        ]\n",
      "[ 0.65896201  0.77942497 -0.57913715 ...  0.          0.\n",
      "  0.        ]\n",
      "[ 0.66205537  0.77960932 -0.58797848 ...  0.          0.\n",
      "  0.        ]\n",
      "[ 0.66451204  0.78528273 -0.5930739  ...  0.          0.\n",
      "  0.        ]\n",
      "[ 0.66552585  0.78022915 -0.59662205 ...  0.          0.\n",
      "  0.        ]\n",
      "[ 0.66469741  0.76980793 -0.59862006 ...  0.          0.\n",
      "  0.        ]\n",
      "[ 0.66428584  0.76947683 -0.57407272 ...  0.          0.\n",
      "  0.        ]\n",
      "[ 0.6637516   0.76996875 -0.58059406 ...  0.          0.\n",
      "  0.        ]\n",
      "[ 0.66362196  0.76909298 -0.63266337 ...  0.          0.\n",
      "  0.        ]\n",
      "[ 0.66340953  0.77232617 -0.66245586 ...  0.          0.\n",
      "  0.        ]\n",
      "[ 0.66140246  0.77111119 -0.63826573 ...  0.          0.\n",
      "  0.        ]\n",
      "[ 0.66114813  0.77519703 -0.62209421 ...  0.          0.\n",
      "  0.        ]\n",
      "[ 0.65263587  0.77241313 -0.54950505 ...  0.          0.\n",
      "  0.        ]\n",
      "[ 0.6517607   0.77256566 -0.56703025 ...  0.          0.\n",
      "  0.        ]\n",
      "[ 0.64754587  0.76503503 -0.54555792 ...  0.          0.\n",
      "  0.        ]\n",
      "[ 0.64715123  0.7615369  -0.52622467 ...  0.          0.\n",
      "  0.        ]\n",
      "[ 0.64723271  0.74517572 -0.50120908 ...  0.          0.\n",
      "  0.        ]\n",
      "[ 0.64744663  0.7376132  -0.56330019 ...  0.          0.\n",
      "  0.        ]\n",
      "[ 0.65057331  0.73376638 -0.56332171 ...  0.          0.\n",
      "  0.        ]\n",
      "[ 0.65103799  0.73137653 -0.62674057 ...  0.          0.\n",
      "  0.        ]\n",
      "[ 0.65093446  0.73281068 -0.69342512 ...  0.          0.\n",
      "  0.        ]\n",
      "[ 0.65054131  0.73379761 -0.63388008 ...  0.36894116  0.77863193\n",
      " -0.03421827]\n",
      "[ 0.64950663  0.73440611 -0.56048065 ...  0.44385979  0.67987597\n",
      " -0.04550675]\n",
      "[ 0.64963746  0.73740667 -0.56303287 ...  0.51082516  0.65155816\n",
      " -0.0288908 ]\n",
      "[ 0.57554162  0.56381482 -0.91931558 ...  0.          0.\n",
      "  0.        ]\n",
      "[ 0.55633187  0.5758208  -1.17160678 ...  0.          0.\n",
      "  0.        ]\n",
      "[ 0.54960048  0.57816273 -1.22060883 ...  0.          0.\n",
      "  0.        ]\n",
      "[ 0.54690021  0.57023418 -1.1236037  ...  0.          0.\n",
      "  0.        ]\n",
      "[ 0.54667544  0.56893921 -1.17672741 ...  0.          0.\n",
      "  0.        ]\n",
      "[ 0.54279512  0.57506508 -1.05023086 ...  0.          0.\n",
      "  0.        ]\n",
      "[ 0.54087079  0.57404757 -1.13120568 ...  0.          0.\n",
      "  0.        ]\n",
      "[ 0.54156071  0.58102077 -1.14489174 ...  0.          0.\n",
      "  0.        ]\n",
      "[ 0.54044574  0.58558357 -1.11862421 ...  0.          0.\n",
      "  0.        ]\n",
      "[ 0.54056031  0.58896136 -1.15291405 ...  0.          0.\n",
      "  0.        ]\n",
      "[ 0.53719062  0.5902096  -1.11398447 ...  0.          0.\n",
      "  0.        ]\n",
      "[ 0.53446478  0.58393139 -1.16273332 ...  0.          0.\n",
      "  0.        ]\n",
      "[ 0.53037733  0.58067918 -1.13727415 ...  0.          0.\n",
      "  0.        ]\n"
     ]
    }
   ],
   "source": [
    "collect_asl_data()"
   ]
  },
  {
   "cell_type": "code",
   "execution_count": null,
   "id": "24b96d07-6a4c-4cda-904d-bd20c8d481c4",
   "metadata": {},
   "outputs": [],
   "source": []
  }
 ],
 "metadata": {
  "kernelspec": {
   "display_name": "venv",
   "language": "python",
   "name": "venv"
  },
  "language_info": {
   "codemirror_mode": {
    "name": "ipython",
    "version": 3
   },
   "file_extension": ".py",
   "mimetype": "text/x-python",
   "name": "python",
   "nbconvert_exporter": "python",
   "pygments_lexer": "ipython3",
   "version": "3.11.7"
  }
 },
 "nbformat": 4,
 "nbformat_minor": 5
}
